{
  "nbformat": 4,
  "nbformat_minor": 0,
  "metadata": {
    "colab": {
      "provenance": [],
      "authorship_tag": "ABX9TyM/aTV6i2Noakfoo7/TCuo2",
      "include_colab_link": true
    },
    "kernelspec": {
      "name": "python3",
      "display_name": "Python 3"
    },
    "language_info": {
      "name": "python"
    }
  },
  "cells": [
    {
      "cell_type": "markdown",
      "metadata": {
        "id": "view-in-github",
        "colab_type": "text"
      },
      "source": [
        "<a href=\"https://colab.research.google.com/github/Mr-Himanshu123/Lead_Scoring_Prediction/blob/main/Lead_Scoring_Prediction.ipynb\" target=\"_parent\"><img src=\"https://colab.research.google.com/assets/colab-badge.svg\" alt=\"Open In Colab\"/></a>"
      ]
    },
    {
      "cell_type": "markdown",
      "source": [
        "An education company named X Education sells online courses to industry professionals. On any given day, many professionals who are interested in the courses land on their website and browse for courses.\n",
        "\n",
        "The company markets its courses on several websites and search engines like Google. Once these people land on the website, they might browse the courses or fill up a form for the course or watch some videos. When these people fill up a form providing their email address or phone number, they are classified to be a lead. Moreover, the company also gets leads through past referrals. Once these leads are acquired, employees from the sales team start making calls, writing emails, etc. Through this process, some of the leads get converted while most do not. The typical lead conversion rate at X Education is around 30%.\n",
        "\n",
        "Now, although X Education gets a lot of leads, its lead conversion rate is very poor. For example, if, say, they acquire 100 leads in a day, only about 30 of them are converted. To make this process more efficient, the company wishes to identify the most potential leads, also known as ‘Hot Leads’. If they successfully identify this set of leads, the lead conversion rate should go up as the sales team will now be focusing more on communicating with the potential leads rather than making calls to everyone. A typical lead conversion process can be represented using the following funnel:\n",
        "\n",
        "![3bcbe6_55674e5c16df43ae93e1843776f6eabc~mv2 (1).webp](data:image/webp;base64,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)\n",
        "\n",
        "As you can see, there are a lot of leads generated in the initial stage (top) but only a few of them come out as paying customers from the bottom. In the middle stage, you need to nurture the potential leads well (i.e. educating the leads about the product, constantly communicating etc. ) in order to get a higher lead conversion.\n",
        "\n",
        "X Education has appointed you to help them select the most promising leads, i.e. the leads that are most likely to convert into paying customers. The company requires you to build a model wherein you need to assign a lead score to each of the leads such that the customers with a higher lead score have a higher conversion chance and the customers with a lower lead score have a lower conversion chance. The CEO, in particular, has given a ballpark of the target lead conversion rate to be around 80%.\n"
      ],
      "metadata": {
        "id": "gKlx2zOnFeT6"
      }
    },
    {
      "cell_type": "code",
      "execution_count": 54,
      "metadata": {
        "id": "SfMdAZHS_WYC"
      },
      "outputs": [],
      "source": [
        "#Importing libraries\n",
        "import pandas as pd\n",
        "import numpy as np\n",
        "pd.set_option('display.max_columns', 100)\n",
        "import seaborn as sns\n",
        "import matplotlib.pyplot as plt\n",
        "%matplotlib inline\n",
        "import missingno as msno\n",
        "from matplotlib.pyplot import xticks\n",
        "\n",
        "import warnings\n",
        "warnings.filterwarnings('ignore')"
      ]
    },
    {
      "cell_type": "markdown",
      "source": [
        "Xeducation company providing online courses for many domains. People are landed on a website for inrolling into the course are the people who are intrested that can directly do payment and purchase the course but people those who want some clarification after watching some videos and drop there information on form like name, email, phone, etc. are converted as a lead. Moreover company gets lead from the sources like data, referal and so on.\n",
        "\n",
        "The rate of convertion of that lead comes across various points are very less. we can say only 20 - 30% of lead can be coverted. Suppose 100 people landed as lead on website from them only 30 are converted to purchase the course.\n",
        "\n",
        "Dont u think the process sholud more efficient to increase rate of convertion. The company wishes to identify most potential leads that is known as 'Hot Leads'. And these hot leads should go with sales team, that can give more focus to convert these leads."
      ],
      "metadata": {
        "id": "g0HJBqvwwzSn"
      }
    },
    {
      "cell_type": "code",
      "source": [
        "#Mounting a drive\n",
        "from google.colab import drive\n",
        "drive.mount('/content/drive')"
      ],
      "metadata": {
        "colab": {
          "base_uri": "https://localhost:8080/"
        },
        "id": "faXK589rGI7i",
        "outputId": "d87a81f6-b62b-4e51-f480-fa11ad85a3be"
      },
      "execution_count": null,
      "outputs": [
        {
          "output_type": "stream",
          "name": "stdout",
          "text": [
            "Mounted at /content/drive\n"
          ]
        }
      ]
    },
    {
      "cell_type": "code",
      "source": [
        "#Data loading\n",
        "lead_data = pd.read_csv('/content/drive/MyDrive/Lord AI Project - Evoastra Ventures (Opc)/4. Lead Scoring Prediction/Leads.csv')"
      ],
      "metadata": {
        "id": "nsEeuDUYGKEs"
      },
      "execution_count": null,
      "outputs": []
    },
    {
      "cell_type": "code",
      "source": [
        "# Shape of the data\n",
        "lead_data.shape"
      ],
      "metadata": {
        "id": "Wx0n5G9VHIsM",
        "outputId": "5bbb4993-459c-4cd7-8191-9c0807a99716",
        "colab": {
          "base_uri": "https://localhost:8080/"
        }
      },
      "execution_count": null,
      "outputs": [
        {
          "output_type": "execute_result",
          "data": {
            "text/plain": [
              "(9240, 37)"
            ]
          },
          "metadata": {},
          "execution_count": 4
        }
      ]
    },
    {
      "cell_type": "code",
      "source": [
        "#First look of the data\n",
        "lead_data.head()"
      ],
      "metadata": {
        "colab": {
          "base_uri": "https://localhost:8080/",
          "height": 556
        },
        "id": "GvcHU2aYGYHm",
        "outputId": "89186d7d-b876-4166-9ac1-80b14817ec19"
      },
      "execution_count": null,
      "outputs": [
        {
          "output_type": "execute_result",
          "data": {
            "text/plain": [
              "                            Prospect ID  Lead Number              Lead Origin  \\\n",
              "0  7927b2df-8bba-4d29-b9a2-b6e0beafe620       660737                      API   \n",
              "1  2a272436-5132-4136-86fa-dcc88c88f482       660728                      API   \n",
              "2  8cc8c611-a219-4f35-ad23-fdfd2656bd8a       660727  Landing Page Submission   \n",
              "3  0cc2df48-7cf4-4e39-9de9-19797f9b38cc       660719  Landing Page Submission   \n",
              "4  3256f628-e534-4826-9d63-4a8b88782852       660681  Landing Page Submission   \n",
              "\n",
              "      Lead Source Do Not Email Do Not Call  Converted  TotalVisits  \\\n",
              "0      Olark Chat           No          No          0          0.0   \n",
              "1  Organic Search           No          No          0          5.0   \n",
              "2  Direct Traffic           No          No          1          2.0   \n",
              "3  Direct Traffic           No          No          0          1.0   \n",
              "4          Google           No          No          1          2.0   \n",
              "\n",
              "   Total Time Spent on Website  Page Views Per Visit            Last Activity  \\\n",
              "0                            0                   0.0  Page Visited on Website   \n",
              "1                          674                   2.5             Email Opened   \n",
              "2                         1532                   2.0             Email Opened   \n",
              "3                          305                   1.0              Unreachable   \n",
              "4                         1428                   1.0        Converted to Lead   \n",
              "\n",
              "  Country           Specialization How did you hear about X Education  \\\n",
              "0     NaN                   Select                             Select   \n",
              "1   India                   Select                             Select   \n",
              "2   India  Business Administration                             Select   \n",
              "3   India    Media and Advertising                      Word Of Mouth   \n",
              "4   India                   Select                              Other   \n",
              "\n",
              "  What is your current occupation  \\\n",
              "0                      Unemployed   \n",
              "1                      Unemployed   \n",
              "2                         Student   \n",
              "3                      Unemployed   \n",
              "4                      Unemployed   \n",
              "\n",
              "  What matters most to you in choosing a course Search Magazine  \\\n",
              "0                       Better Career Prospects     No       No   \n",
              "1                       Better Career Prospects     No       No   \n",
              "2                       Better Career Prospects     No       No   \n",
              "3                       Better Career Prospects     No       No   \n",
              "4                       Better Career Prospects     No       No   \n",
              "\n",
              "  Newspaper Article X Education Forums Newspaper Digital Advertisement  \\\n",
              "0                No                 No        No                    No   \n",
              "1                No                 No        No                    No   \n",
              "2                No                 No        No                    No   \n",
              "3                No                 No        No                    No   \n",
              "4                No                 No        No                    No   \n",
              "\n",
              "  Through Recommendations Receive More Updates About Our Courses  \\\n",
              "0                      No                                     No   \n",
              "1                      No                                     No   \n",
              "2                      No                                     No   \n",
              "3                      No                                     No   \n",
              "4                      No                                     No   \n",
              "\n",
              "                                  Tags      Lead Quality  \\\n",
              "0          Interested in other courses  Low in Relevance   \n",
              "1                              Ringing               NaN   \n",
              "2  Will revert after reading the email          Might be   \n",
              "3                              Ringing          Not Sure   \n",
              "4  Will revert after reading the email          Might be   \n",
              "\n",
              "  Update me on Supply Chain Content Get updates on DM Content    Lead Profile  \\\n",
              "0                                No                        No          Select   \n",
              "1                                No                        No          Select   \n",
              "2                                No                        No  Potential Lead   \n",
              "3                                No                        No          Select   \n",
              "4                                No                        No          Select   \n",
              "\n",
              "     City Asymmetrique Activity Index Asymmetrique Profile Index  \\\n",
              "0  Select                   02.Medium                  02.Medium   \n",
              "1  Select                   02.Medium                  02.Medium   \n",
              "2  Mumbai                   02.Medium                    01.High   \n",
              "3  Mumbai                   02.Medium                    01.High   \n",
              "4  Mumbai                   02.Medium                    01.High   \n",
              "\n",
              "   Asymmetrique Activity Score  Asymmetrique Profile Score  \\\n",
              "0                         15.0                        15.0   \n",
              "1                         15.0                        15.0   \n",
              "2                         14.0                        20.0   \n",
              "3                         13.0                        17.0   \n",
              "4                         15.0                        18.0   \n",
              "\n",
              "  I agree to pay the amount through cheque  \\\n",
              "0                                       No   \n",
              "1                                       No   \n",
              "2                                       No   \n",
              "3                                       No   \n",
              "4                                       No   \n",
              "\n",
              "  A free copy of Mastering The Interview Last Notable Activity  \n",
              "0                                     No              Modified  \n",
              "1                                     No          Email Opened  \n",
              "2                                    Yes          Email Opened  \n",
              "3                                     No              Modified  \n",
              "4                                     No              Modified  "
            ],
            "text/html": [
              "\n",
              "  <div id=\"df-c5515521-07ef-4c96-87a3-7a830987c883\" class=\"colab-df-container\">\n",
              "    <div>\n",
              "<style scoped>\n",
              "    .dataframe tbody tr th:only-of-type {\n",
              "        vertical-align: middle;\n",
              "    }\n",
              "\n",
              "    .dataframe tbody tr th {\n",
              "        vertical-align: top;\n",
              "    }\n",
              "\n",
              "    .dataframe thead th {\n",
              "        text-align: right;\n",
              "    }\n",
              "</style>\n",
              "<table border=\"1\" class=\"dataframe\">\n",
              "  <thead>\n",
              "    <tr style=\"text-align: right;\">\n",
              "      <th></th>\n",
              "      <th>Prospect ID</th>\n",
              "      <th>Lead Number</th>\n",
              "      <th>Lead Origin</th>\n",
              "      <th>Lead Source</th>\n",
              "      <th>Do Not Email</th>\n",
              "      <th>Do Not Call</th>\n",
              "      <th>Converted</th>\n",
              "      <th>TotalVisits</th>\n",
              "      <th>Total Time Spent on Website</th>\n",
              "      <th>Page Views Per Visit</th>\n",
              "      <th>Last Activity</th>\n",
              "      <th>Country</th>\n",
              "      <th>Specialization</th>\n",
              "      <th>How did you hear about X Education</th>\n",
              "      <th>What is your current occupation</th>\n",
              "      <th>What matters most to you in choosing a course</th>\n",
              "      <th>Search</th>\n",
              "      <th>Magazine</th>\n",
              "      <th>Newspaper Article</th>\n",
              "      <th>X Education Forums</th>\n",
              "      <th>Newspaper</th>\n",
              "      <th>Digital Advertisement</th>\n",
              "      <th>Through Recommendations</th>\n",
              "      <th>Receive More Updates About Our Courses</th>\n",
              "      <th>Tags</th>\n",
              "      <th>Lead Quality</th>\n",
              "      <th>Update me on Supply Chain Content</th>\n",
              "      <th>Get updates on DM Content</th>\n",
              "      <th>Lead Profile</th>\n",
              "      <th>City</th>\n",
              "      <th>Asymmetrique Activity Index</th>\n",
              "      <th>Asymmetrique Profile Index</th>\n",
              "      <th>Asymmetrique Activity Score</th>\n",
              "      <th>Asymmetrique Profile Score</th>\n",
              "      <th>I agree to pay the amount through cheque</th>\n",
              "      <th>A free copy of Mastering The Interview</th>\n",
              "      <th>Last Notable Activity</th>\n",
              "    </tr>\n",
              "  </thead>\n",
              "  <tbody>\n",
              "    <tr>\n",
              "      <th>0</th>\n",
              "      <td>7927b2df-8bba-4d29-b9a2-b6e0beafe620</td>\n",
              "      <td>660737</td>\n",
              "      <td>API</td>\n",
              "      <td>Olark Chat</td>\n",
              "      <td>No</td>\n",
              "      <td>No</td>\n",
              "      <td>0</td>\n",
              "      <td>0.0</td>\n",
              "      <td>0</td>\n",
              "      <td>0.0</td>\n",
              "      <td>Page Visited on Website</td>\n",
              "      <td>NaN</td>\n",
              "      <td>Select</td>\n",
              "      <td>Select</td>\n",
              "      <td>Unemployed</td>\n",
              "      <td>Better Career Prospects</td>\n",
              "      <td>No</td>\n",
              "      <td>No</td>\n",
              "      <td>No</td>\n",
              "      <td>No</td>\n",
              "      <td>No</td>\n",
              "      <td>No</td>\n",
              "      <td>No</td>\n",
              "      <td>No</td>\n",
              "      <td>Interested in other courses</td>\n",
              "      <td>Low in Relevance</td>\n",
              "      <td>No</td>\n",
              "      <td>No</td>\n",
              "      <td>Select</td>\n",
              "      <td>Select</td>\n",
              "      <td>02.Medium</td>\n",
              "      <td>02.Medium</td>\n",
              "      <td>15.0</td>\n",
              "      <td>15.0</td>\n",
              "      <td>No</td>\n",
              "      <td>No</td>\n",
              "      <td>Modified</td>\n",
              "    </tr>\n",
              "    <tr>\n",
              "      <th>1</th>\n",
              "      <td>2a272436-5132-4136-86fa-dcc88c88f482</td>\n",
              "      <td>660728</td>\n",
              "      <td>API</td>\n",
              "      <td>Organic Search</td>\n",
              "      <td>No</td>\n",
              "      <td>No</td>\n",
              "      <td>0</td>\n",
              "      <td>5.0</td>\n",
              "      <td>674</td>\n",
              "      <td>2.5</td>\n",
              "      <td>Email Opened</td>\n",
              "      <td>India</td>\n",
              "      <td>Select</td>\n",
              "      <td>Select</td>\n",
              "      <td>Unemployed</td>\n",
              "      <td>Better Career Prospects</td>\n",
              "      <td>No</td>\n",
              "      <td>No</td>\n",
              "      <td>No</td>\n",
              "      <td>No</td>\n",
              "      <td>No</td>\n",
              "      <td>No</td>\n",
              "      <td>No</td>\n",
              "      <td>No</td>\n",
              "      <td>Ringing</td>\n",
              "      <td>NaN</td>\n",
              "      <td>No</td>\n",
              "      <td>No</td>\n",
              "      <td>Select</td>\n",
              "      <td>Select</td>\n",
              "      <td>02.Medium</td>\n",
              "      <td>02.Medium</td>\n",
              "      <td>15.0</td>\n",
              "      <td>15.0</td>\n",
              "      <td>No</td>\n",
              "      <td>No</td>\n",
              "      <td>Email Opened</td>\n",
              "    </tr>\n",
              "    <tr>\n",
              "      <th>2</th>\n",
              "      <td>8cc8c611-a219-4f35-ad23-fdfd2656bd8a</td>\n",
              "      <td>660727</td>\n",
              "      <td>Landing Page Submission</td>\n",
              "      <td>Direct Traffic</td>\n",
              "      <td>No</td>\n",
              "      <td>No</td>\n",
              "      <td>1</td>\n",
              "      <td>2.0</td>\n",
              "      <td>1532</td>\n",
              "      <td>2.0</td>\n",
              "      <td>Email Opened</td>\n",
              "      <td>India</td>\n",
              "      <td>Business Administration</td>\n",
              "      <td>Select</td>\n",
              "      <td>Student</td>\n",
              "      <td>Better Career Prospects</td>\n",
              "      <td>No</td>\n",
              "      <td>No</td>\n",
              "      <td>No</td>\n",
              "      <td>No</td>\n",
              "      <td>No</td>\n",
              "      <td>No</td>\n",
              "      <td>No</td>\n",
              "      <td>No</td>\n",
              "      <td>Will revert after reading the email</td>\n",
              "      <td>Might be</td>\n",
              "      <td>No</td>\n",
              "      <td>No</td>\n",
              "      <td>Potential Lead</td>\n",
              "      <td>Mumbai</td>\n",
              "      <td>02.Medium</td>\n",
              "      <td>01.High</td>\n",
              "      <td>14.0</td>\n",
              "      <td>20.0</td>\n",
              "      <td>No</td>\n",
              "      <td>Yes</td>\n",
              "      <td>Email Opened</td>\n",
              "    </tr>\n",
              "    <tr>\n",
              "      <th>3</th>\n",
              "      <td>0cc2df48-7cf4-4e39-9de9-19797f9b38cc</td>\n",
              "      <td>660719</td>\n",
              "      <td>Landing Page Submission</td>\n",
              "      <td>Direct Traffic</td>\n",
              "      <td>No</td>\n",
              "      <td>No</td>\n",
              "      <td>0</td>\n",
              "      <td>1.0</td>\n",
              "      <td>305</td>\n",
              "      <td>1.0</td>\n",
              "      <td>Unreachable</td>\n",
              "      <td>India</td>\n",
              "      <td>Media and Advertising</td>\n",
              "      <td>Word Of Mouth</td>\n",
              "      <td>Unemployed</td>\n",
              "      <td>Better Career Prospects</td>\n",
              "      <td>No</td>\n",
              "      <td>No</td>\n",
              "      <td>No</td>\n",
              "      <td>No</td>\n",
              "      <td>No</td>\n",
              "      <td>No</td>\n",
              "      <td>No</td>\n",
              "      <td>No</td>\n",
              "      <td>Ringing</td>\n",
              "      <td>Not Sure</td>\n",
              "      <td>No</td>\n",
              "      <td>No</td>\n",
              "      <td>Select</td>\n",
              "      <td>Mumbai</td>\n",
              "      <td>02.Medium</td>\n",
              "      <td>01.High</td>\n",
              "      <td>13.0</td>\n",
              "      <td>17.0</td>\n",
              "      <td>No</td>\n",
              "      <td>No</td>\n",
              "      <td>Modified</td>\n",
              "    </tr>\n",
              "    <tr>\n",
              "      <th>4</th>\n",
              "      <td>3256f628-e534-4826-9d63-4a8b88782852</td>\n",
              "      <td>660681</td>\n",
              "      <td>Landing Page Submission</td>\n",
              "      <td>Google</td>\n",
              "      <td>No</td>\n",
              "      <td>No</td>\n",
              "      <td>1</td>\n",
              "      <td>2.0</td>\n",
              "      <td>1428</td>\n",
              "      <td>1.0</td>\n",
              "      <td>Converted to Lead</td>\n",
              "      <td>India</td>\n",
              "      <td>Select</td>\n",
              "      <td>Other</td>\n",
              "      <td>Unemployed</td>\n",
              "      <td>Better Career Prospects</td>\n",
              "      <td>No</td>\n",
              "      <td>No</td>\n",
              "      <td>No</td>\n",
              "      <td>No</td>\n",
              "      <td>No</td>\n",
              "      <td>No</td>\n",
              "      <td>No</td>\n",
              "      <td>No</td>\n",
              "      <td>Will revert after reading the email</td>\n",
              "      <td>Might be</td>\n",
              "      <td>No</td>\n",
              "      <td>No</td>\n",
              "      <td>Select</td>\n",
              "      <td>Mumbai</td>\n",
              "      <td>02.Medium</td>\n",
              "      <td>01.High</td>\n",
              "      <td>15.0</td>\n",
              "      <td>18.0</td>\n",
              "      <td>No</td>\n",
              "      <td>No</td>\n",
              "      <td>Modified</td>\n",
              "    </tr>\n",
              "  </tbody>\n",
              "</table>\n",
              "</div>\n",
              "    <div class=\"colab-df-buttons\">\n",
              "\n",
              "  <div class=\"colab-df-container\">\n",
              "    <button class=\"colab-df-convert\" onclick=\"convertToInteractive('df-c5515521-07ef-4c96-87a3-7a830987c883')\"\n",
              "            title=\"Convert this dataframe to an interactive table.\"\n",
              "            style=\"display:none;\">\n",
              "\n",
              "  <svg xmlns=\"http://www.w3.org/2000/svg\" height=\"24px\" viewBox=\"0 -960 960 960\">\n",
              "    <path d=\"M120-120v-720h720v720H120Zm60-500h600v-160H180v160Zm220 220h160v-160H400v160Zm0 220h160v-160H400v160ZM180-400h160v-160H180v160Zm440 0h160v-160H620v160ZM180-180h160v-160H180v160Zm440 0h160v-160H620v160Z\"/>\n",
              "  </svg>\n",
              "    </button>\n",
              "\n",
              "  <style>\n",
              "    .colab-df-container {\n",
              "      display:flex;\n",
              "      gap: 12px;\n",
              "    }\n",
              "\n",
              "    .colab-df-convert {\n",
              "      background-color: #E8F0FE;\n",
              "      border: none;\n",
              "      border-radius: 50%;\n",
              "      cursor: pointer;\n",
              "      display: none;\n",
              "      fill: #1967D2;\n",
              "      height: 32px;\n",
              "      padding: 0 0 0 0;\n",
              "      width: 32px;\n",
              "    }\n",
              "\n",
              "    .colab-df-convert:hover {\n",
              "      background-color: #E2EBFA;\n",
              "      box-shadow: 0px 1px 2px rgba(60, 64, 67, 0.3), 0px 1px 3px 1px rgba(60, 64, 67, 0.15);\n",
              "      fill: #174EA6;\n",
              "    }\n",
              "\n",
              "    .colab-df-buttons div {\n",
              "      margin-bottom: 4px;\n",
              "    }\n",
              "\n",
              "    [theme=dark] .colab-df-convert {\n",
              "      background-color: #3B4455;\n",
              "      fill: #D2E3FC;\n",
              "    }\n",
              "\n",
              "    [theme=dark] .colab-df-convert:hover {\n",
              "      background-color: #434B5C;\n",
              "      box-shadow: 0px 1px 3px 1px rgba(0, 0, 0, 0.15);\n",
              "      filter: drop-shadow(0px 1px 2px rgba(0, 0, 0, 0.3));\n",
              "      fill: #FFFFFF;\n",
              "    }\n",
              "  </style>\n",
              "\n",
              "    <script>\n",
              "      const buttonEl =\n",
              "        document.querySelector('#df-c5515521-07ef-4c96-87a3-7a830987c883 button.colab-df-convert');\n",
              "      buttonEl.style.display =\n",
              "        google.colab.kernel.accessAllowed ? 'block' : 'none';\n",
              "\n",
              "      async function convertToInteractive(key) {\n",
              "        const element = document.querySelector('#df-c5515521-07ef-4c96-87a3-7a830987c883');\n",
              "        const dataTable =\n",
              "          await google.colab.kernel.invokeFunction('convertToInteractive',\n",
              "                                                    [key], {});\n",
              "        if (!dataTable) return;\n",
              "\n",
              "        const docLinkHtml = 'Like what you see? Visit the ' +\n",
              "          '<a target=\"_blank\" href=https://colab.research.google.com/notebooks/data_table.ipynb>data table notebook</a>'\n",
              "          + ' to learn more about interactive tables.';\n",
              "        element.innerHTML = '';\n",
              "        dataTable['output_type'] = 'display_data';\n",
              "        await google.colab.output.renderOutput(dataTable, element);\n",
              "        const docLink = document.createElement('div');\n",
              "        docLink.innerHTML = docLinkHtml;\n",
              "        element.appendChild(docLink);\n",
              "      }\n",
              "    </script>\n",
              "  </div>\n",
              "\n",
              "\n",
              "<div id=\"df-f1e6be4e-4684-4244-a576-1f36813ee96b\">\n",
              "  <button class=\"colab-df-quickchart\" onclick=\"quickchart('df-f1e6be4e-4684-4244-a576-1f36813ee96b')\"\n",
              "            title=\"Suggest charts\"\n",
              "            style=\"display:none;\">\n",
              "\n",
              "<svg xmlns=\"http://www.w3.org/2000/svg\" height=\"24px\"viewBox=\"0 0 24 24\"\n",
              "     width=\"24px\">\n",
              "    <g>\n",
              "        <path d=\"M19 3H5c-1.1 0-2 .9-2 2v14c0 1.1.9 2 2 2h14c1.1 0 2-.9 2-2V5c0-1.1-.9-2-2-2zM9 17H7v-7h2v7zm4 0h-2V7h2v10zm4 0h-2v-4h2v4z\"/>\n",
              "    </g>\n",
              "</svg>\n",
              "  </button>\n",
              "\n",
              "<style>\n",
              "  .colab-df-quickchart {\n",
              "      --bg-color: #E8F0FE;\n",
              "      --fill-color: #1967D2;\n",
              "      --hover-bg-color: #E2EBFA;\n",
              "      --hover-fill-color: #174EA6;\n",
              "      --disabled-fill-color: #AAA;\n",
              "      --disabled-bg-color: #DDD;\n",
              "  }\n",
              "\n",
              "  [theme=dark] .colab-df-quickchart {\n",
              "      --bg-color: #3B4455;\n",
              "      --fill-color: #D2E3FC;\n",
              "      --hover-bg-color: #434B5C;\n",
              "      --hover-fill-color: #FFFFFF;\n",
              "      --disabled-bg-color: #3B4455;\n",
              "      --disabled-fill-color: #666;\n",
              "  }\n",
              "\n",
              "  .colab-df-quickchart {\n",
              "    background-color: var(--bg-color);\n",
              "    border: none;\n",
              "    border-radius: 50%;\n",
              "    cursor: pointer;\n",
              "    display: none;\n",
              "    fill: var(--fill-color);\n",
              "    height: 32px;\n",
              "    padding: 0;\n",
              "    width: 32px;\n",
              "  }\n",
              "\n",
              "  .colab-df-quickchart:hover {\n",
              "    background-color: var(--hover-bg-color);\n",
              "    box-shadow: 0 1px 2px rgba(60, 64, 67, 0.3), 0 1px 3px 1px rgba(60, 64, 67, 0.15);\n",
              "    fill: var(--button-hover-fill-color);\n",
              "  }\n",
              "\n",
              "  .colab-df-quickchart-complete:disabled,\n",
              "  .colab-df-quickchart-complete:disabled:hover {\n",
              "    background-color: var(--disabled-bg-color);\n",
              "    fill: var(--disabled-fill-color);\n",
              "    box-shadow: none;\n",
              "  }\n",
              "\n",
              "  .colab-df-spinner {\n",
              "    border: 2px solid var(--fill-color);\n",
              "    border-color: transparent;\n",
              "    border-bottom-color: var(--fill-color);\n",
              "    animation:\n",
              "      spin 1s steps(1) infinite;\n",
              "  }\n",
              "\n",
              "  @keyframes spin {\n",
              "    0% {\n",
              "      border-color: transparent;\n",
              "      border-bottom-color: var(--fill-color);\n",
              "      border-left-color: var(--fill-color);\n",
              "    }\n",
              "    20% {\n",
              "      border-color: transparent;\n",
              "      border-left-color: var(--fill-color);\n",
              "      border-top-color: var(--fill-color);\n",
              "    }\n",
              "    30% {\n",
              "      border-color: transparent;\n",
              "      border-left-color: var(--fill-color);\n",
              "      border-top-color: var(--fill-color);\n",
              "      border-right-color: var(--fill-color);\n",
              "    }\n",
              "    40% {\n",
              "      border-color: transparent;\n",
              "      border-right-color: var(--fill-color);\n",
              "      border-top-color: var(--fill-color);\n",
              "    }\n",
              "    60% {\n",
              "      border-color: transparent;\n",
              "      border-right-color: var(--fill-color);\n",
              "    }\n",
              "    80% {\n",
              "      border-color: transparent;\n",
              "      border-right-color: var(--fill-color);\n",
              "      border-bottom-color: var(--fill-color);\n",
              "    }\n",
              "    90% {\n",
              "      border-color: transparent;\n",
              "      border-bottom-color: var(--fill-color);\n",
              "    }\n",
              "  }\n",
              "</style>\n",
              "\n",
              "  <script>\n",
              "    async function quickchart(key) {\n",
              "      const quickchartButtonEl =\n",
              "        document.querySelector('#' + key + ' button');\n",
              "      quickchartButtonEl.disabled = true;  // To prevent multiple clicks.\n",
              "      quickchartButtonEl.classList.add('colab-df-spinner');\n",
              "      try {\n",
              "        const charts = await google.colab.kernel.invokeFunction(\n",
              "            'suggestCharts', [key], {});\n",
              "      } catch (error) {\n",
              "        console.error('Error during call to suggestCharts:', error);\n",
              "      }\n",
              "      quickchartButtonEl.classList.remove('colab-df-spinner');\n",
              "      quickchartButtonEl.classList.add('colab-df-quickchart-complete');\n",
              "    }\n",
              "    (() => {\n",
              "      let quickchartButtonEl =\n",
              "        document.querySelector('#df-f1e6be4e-4684-4244-a576-1f36813ee96b button');\n",
              "      quickchartButtonEl.style.display =\n",
              "        google.colab.kernel.accessAllowed ? 'block' : 'none';\n",
              "    })();\n",
              "  </script>\n",
              "</div>\n",
              "    </div>\n",
              "  </div>\n"
            ]
          },
          "metadata": {},
          "execution_count": 5
        }
      ]
    },
    {
      "cell_type": "code",
      "source": [
        "# Information of data\n",
        "lead_data.info()"
      ],
      "metadata": {
        "colab": {
          "base_uri": "https://localhost:8080/"
        },
        "id": "9m5BZbOkGe25",
        "outputId": "f5b07ed9-3247-4ad2-a263-3a7752a72aaa"
      },
      "execution_count": null,
      "outputs": [
        {
          "output_type": "stream",
          "name": "stdout",
          "text": [
            "<class 'pandas.core.frame.DataFrame'>\n",
            "RangeIndex: 9240 entries, 0 to 9239\n",
            "Data columns (total 37 columns):\n",
            " #   Column                                         Non-Null Count  Dtype  \n",
            "---  ------                                         --------------  -----  \n",
            " 0   Prospect ID                                    9240 non-null   object \n",
            " 1   Lead Number                                    9240 non-null   int64  \n",
            " 2   Lead Origin                                    9240 non-null   object \n",
            " 3   Lead Source                                    9204 non-null   object \n",
            " 4   Do Not Email                                   9240 non-null   object \n",
            " 5   Do Not Call                                    9240 non-null   object \n",
            " 6   Converted                                      9240 non-null   int64  \n",
            " 7   TotalVisits                                    9103 non-null   float64\n",
            " 8   Total Time Spent on Website                    9240 non-null   int64  \n",
            " 9   Page Views Per Visit                           9103 non-null   float64\n",
            " 10  Last Activity                                  9137 non-null   object \n",
            " 11  Country                                        6779 non-null   object \n",
            " 12  Specialization                                 7802 non-null   object \n",
            " 13  How did you hear about X Education             7033 non-null   object \n",
            " 14  What is your current occupation                6550 non-null   object \n",
            " 15  What matters most to you in choosing a course  6531 non-null   object \n",
            " 16  Search                                         9240 non-null   object \n",
            " 17  Magazine                                       9240 non-null   object \n",
            " 18  Newspaper Article                              9240 non-null   object \n",
            " 19  X Education Forums                             9240 non-null   object \n",
            " 20  Newspaper                                      9240 non-null   object \n",
            " 21  Digital Advertisement                          9240 non-null   object \n",
            " 22  Through Recommendations                        9240 non-null   object \n",
            " 23  Receive More Updates About Our Courses         9240 non-null   object \n",
            " 24  Tags                                           5887 non-null   object \n",
            " 25  Lead Quality                                   4473 non-null   object \n",
            " 26  Update me on Supply Chain Content              9240 non-null   object \n",
            " 27  Get updates on DM Content                      9240 non-null   object \n",
            " 28  Lead Profile                                   6531 non-null   object \n",
            " 29  City                                           7820 non-null   object \n",
            " 30  Asymmetrique Activity Index                    5022 non-null   object \n",
            " 31  Asymmetrique Profile Index                     5022 non-null   object \n",
            " 32  Asymmetrique Activity Score                    5022 non-null   float64\n",
            " 33  Asymmetrique Profile Score                     5022 non-null   float64\n",
            " 34  I agree to pay the amount through cheque       9240 non-null   object \n",
            " 35  A free copy of Mastering The Interview         9240 non-null   object \n",
            " 36  Last Notable Activity                          9240 non-null   object \n",
            "dtypes: float64(4), int64(3), object(30)\n",
            "memory usage: 2.6+ MB\n"
          ]
        }
      ]
    },
    {
      "cell_type": "code",
      "source": [
        "# description of data\n",
        "lead_data.describe()"
      ],
      "metadata": {
        "colab": {
          "base_uri": "https://localhost:8080/",
          "height": 300
        },
        "id": "cU3Kr8AsGiLc",
        "outputId": "f72f7291-45f0-4679-c528-1d0d9c48ddc3"
      },
      "execution_count": null,
      "outputs": [
        {
          "output_type": "execute_result",
          "data": {
            "text/plain": [
              "         Lead Number    Converted  TotalVisits  Total Time Spent on Website  \\\n",
              "count    9240.000000  9240.000000  9103.000000                  9240.000000   \n",
              "mean   617188.435606     0.385390     3.445238                   487.698268   \n",
              "std     23405.995698     0.486714     4.854853                   548.021466   \n",
              "min    579533.000000     0.000000     0.000000                     0.000000   \n",
              "25%    596484.500000     0.000000     1.000000                    12.000000   \n",
              "50%    615479.000000     0.000000     3.000000                   248.000000   \n",
              "75%    637387.250000     1.000000     5.000000                   936.000000   \n",
              "max    660737.000000     1.000000   251.000000                  2272.000000   \n",
              "\n",
              "       Page Views Per Visit  Asymmetrique Activity Score  \\\n",
              "count           9103.000000                  5022.000000   \n",
              "mean               2.362820                    14.306252   \n",
              "std                2.161418                     1.386694   \n",
              "min                0.000000                     7.000000   \n",
              "25%                1.000000                    14.000000   \n",
              "50%                2.000000                    14.000000   \n",
              "75%                3.000000                    15.000000   \n",
              "max               55.000000                    18.000000   \n",
              "\n",
              "       Asymmetrique Profile Score  \n",
              "count                 5022.000000  \n",
              "mean                    16.344883  \n",
              "std                      1.811395  \n",
              "min                     11.000000  \n",
              "25%                     15.000000  \n",
              "50%                     16.000000  \n",
              "75%                     18.000000  \n",
              "max                     20.000000  "
            ],
            "text/html": [
              "\n",
              "  <div id=\"df-08a32c23-af75-453e-a6cd-0b55f52d628e\" class=\"colab-df-container\">\n",
              "    <div>\n",
              "<style scoped>\n",
              "    .dataframe tbody tr th:only-of-type {\n",
              "        vertical-align: middle;\n",
              "    }\n",
              "\n",
              "    .dataframe tbody tr th {\n",
              "        vertical-align: top;\n",
              "    }\n",
              "\n",
              "    .dataframe thead th {\n",
              "        text-align: right;\n",
              "    }\n",
              "</style>\n",
              "<table border=\"1\" class=\"dataframe\">\n",
              "  <thead>\n",
              "    <tr style=\"text-align: right;\">\n",
              "      <th></th>\n",
              "      <th>Lead Number</th>\n",
              "      <th>Converted</th>\n",
              "      <th>TotalVisits</th>\n",
              "      <th>Total Time Spent on Website</th>\n",
              "      <th>Page Views Per Visit</th>\n",
              "      <th>Asymmetrique Activity Score</th>\n",
              "      <th>Asymmetrique Profile Score</th>\n",
              "    </tr>\n",
              "  </thead>\n",
              "  <tbody>\n",
              "    <tr>\n",
              "      <th>count</th>\n",
              "      <td>9240.000000</td>\n",
              "      <td>9240.000000</td>\n",
              "      <td>9103.000000</td>\n",
              "      <td>9240.000000</td>\n",
              "      <td>9103.000000</td>\n",
              "      <td>5022.000000</td>\n",
              "      <td>5022.000000</td>\n",
              "    </tr>\n",
              "    <tr>\n",
              "      <th>mean</th>\n",
              "      <td>617188.435606</td>\n",
              "      <td>0.385390</td>\n",
              "      <td>3.445238</td>\n",
              "      <td>487.698268</td>\n",
              "      <td>2.362820</td>\n",
              "      <td>14.306252</td>\n",
              "      <td>16.344883</td>\n",
              "    </tr>\n",
              "    <tr>\n",
              "      <th>std</th>\n",
              "      <td>23405.995698</td>\n",
              "      <td>0.486714</td>\n",
              "      <td>4.854853</td>\n",
              "      <td>548.021466</td>\n",
              "      <td>2.161418</td>\n",
              "      <td>1.386694</td>\n",
              "      <td>1.811395</td>\n",
              "    </tr>\n",
              "    <tr>\n",
              "      <th>min</th>\n",
              "      <td>579533.000000</td>\n",
              "      <td>0.000000</td>\n",
              "      <td>0.000000</td>\n",
              "      <td>0.000000</td>\n",
              "      <td>0.000000</td>\n",
              "      <td>7.000000</td>\n",
              "      <td>11.000000</td>\n",
              "    </tr>\n",
              "    <tr>\n",
              "      <th>25%</th>\n",
              "      <td>596484.500000</td>\n",
              "      <td>0.000000</td>\n",
              "      <td>1.000000</td>\n",
              "      <td>12.000000</td>\n",
              "      <td>1.000000</td>\n",
              "      <td>14.000000</td>\n",
              "      <td>15.000000</td>\n",
              "    </tr>\n",
              "    <tr>\n",
              "      <th>50%</th>\n",
              "      <td>615479.000000</td>\n",
              "      <td>0.000000</td>\n",
              "      <td>3.000000</td>\n",
              "      <td>248.000000</td>\n",
              "      <td>2.000000</td>\n",
              "      <td>14.000000</td>\n",
              "      <td>16.000000</td>\n",
              "    </tr>\n",
              "    <tr>\n",
              "      <th>75%</th>\n",
              "      <td>637387.250000</td>\n",
              "      <td>1.000000</td>\n",
              "      <td>5.000000</td>\n",
              "      <td>936.000000</td>\n",
              "      <td>3.000000</td>\n",
              "      <td>15.000000</td>\n",
              "      <td>18.000000</td>\n",
              "    </tr>\n",
              "    <tr>\n",
              "      <th>max</th>\n",
              "      <td>660737.000000</td>\n",
              "      <td>1.000000</td>\n",
              "      <td>251.000000</td>\n",
              "      <td>2272.000000</td>\n",
              "      <td>55.000000</td>\n",
              "      <td>18.000000</td>\n",
              "      <td>20.000000</td>\n",
              "    </tr>\n",
              "  </tbody>\n",
              "</table>\n",
              "</div>\n",
              "    <div class=\"colab-df-buttons\">\n",
              "\n",
              "  <div class=\"colab-df-container\">\n",
              "    <button class=\"colab-df-convert\" onclick=\"convertToInteractive('df-08a32c23-af75-453e-a6cd-0b55f52d628e')\"\n",
              "            title=\"Convert this dataframe to an interactive table.\"\n",
              "            style=\"display:none;\">\n",
              "\n",
              "  <svg xmlns=\"http://www.w3.org/2000/svg\" height=\"24px\" viewBox=\"0 -960 960 960\">\n",
              "    <path d=\"M120-120v-720h720v720H120Zm60-500h600v-160H180v160Zm220 220h160v-160H400v160Zm0 220h160v-160H400v160ZM180-400h160v-160H180v160Zm440 0h160v-160H620v160ZM180-180h160v-160H180v160Zm440 0h160v-160H620v160Z\"/>\n",
              "  </svg>\n",
              "    </button>\n",
              "\n",
              "  <style>\n",
              "    .colab-df-container {\n",
              "      display:flex;\n",
              "      gap: 12px;\n",
              "    }\n",
              "\n",
              "    .colab-df-convert {\n",
              "      background-color: #E8F0FE;\n",
              "      border: none;\n",
              "      border-radius: 50%;\n",
              "      cursor: pointer;\n",
              "      display: none;\n",
              "      fill: #1967D2;\n",
              "      height: 32px;\n",
              "      padding: 0 0 0 0;\n",
              "      width: 32px;\n",
              "    }\n",
              "\n",
              "    .colab-df-convert:hover {\n",
              "      background-color: #E2EBFA;\n",
              "      box-shadow: 0px 1px 2px rgba(60, 64, 67, 0.3), 0px 1px 3px 1px rgba(60, 64, 67, 0.15);\n",
              "      fill: #174EA6;\n",
              "    }\n",
              "\n",
              "    .colab-df-buttons div {\n",
              "      margin-bottom: 4px;\n",
              "    }\n",
              "\n",
              "    [theme=dark] .colab-df-convert {\n",
              "      background-color: #3B4455;\n",
              "      fill: #D2E3FC;\n",
              "    }\n",
              "\n",
              "    [theme=dark] .colab-df-convert:hover {\n",
              "      background-color: #434B5C;\n",
              "      box-shadow: 0px 1px 3px 1px rgba(0, 0, 0, 0.15);\n",
              "      filter: drop-shadow(0px 1px 2px rgba(0, 0, 0, 0.3));\n",
              "      fill: #FFFFFF;\n",
              "    }\n",
              "  </style>\n",
              "\n",
              "    <script>\n",
              "      const buttonEl =\n",
              "        document.querySelector('#df-08a32c23-af75-453e-a6cd-0b55f52d628e button.colab-df-convert');\n",
              "      buttonEl.style.display =\n",
              "        google.colab.kernel.accessAllowed ? 'block' : 'none';\n",
              "\n",
              "      async function convertToInteractive(key) {\n",
              "        const element = document.querySelector('#df-08a32c23-af75-453e-a6cd-0b55f52d628e');\n",
              "        const dataTable =\n",
              "          await google.colab.kernel.invokeFunction('convertToInteractive',\n",
              "                                                    [key], {});\n",
              "        if (!dataTable) return;\n",
              "\n",
              "        const docLinkHtml = 'Like what you see? Visit the ' +\n",
              "          '<a target=\"_blank\" href=https://colab.research.google.com/notebooks/data_table.ipynb>data table notebook</a>'\n",
              "          + ' to learn more about interactive tables.';\n",
              "        element.innerHTML = '';\n",
              "        dataTable['output_type'] = 'display_data';\n",
              "        await google.colab.output.renderOutput(dataTable, element);\n",
              "        const docLink = document.createElement('div');\n",
              "        docLink.innerHTML = docLinkHtml;\n",
              "        element.appendChild(docLink);\n",
              "      }\n",
              "    </script>\n",
              "  </div>\n",
              "\n",
              "\n",
              "<div id=\"df-b53faad6-89d5-4766-b89b-f59b2de8576a\">\n",
              "  <button class=\"colab-df-quickchart\" onclick=\"quickchart('df-b53faad6-89d5-4766-b89b-f59b2de8576a')\"\n",
              "            title=\"Suggest charts\"\n",
              "            style=\"display:none;\">\n",
              "\n",
              "<svg xmlns=\"http://www.w3.org/2000/svg\" height=\"24px\"viewBox=\"0 0 24 24\"\n",
              "     width=\"24px\">\n",
              "    <g>\n",
              "        <path d=\"M19 3H5c-1.1 0-2 .9-2 2v14c0 1.1.9 2 2 2h14c1.1 0 2-.9 2-2V5c0-1.1-.9-2-2-2zM9 17H7v-7h2v7zm4 0h-2V7h2v10zm4 0h-2v-4h2v4z\"/>\n",
              "    </g>\n",
              "</svg>\n",
              "  </button>\n",
              "\n",
              "<style>\n",
              "  .colab-df-quickchart {\n",
              "      --bg-color: #E8F0FE;\n",
              "      --fill-color: #1967D2;\n",
              "      --hover-bg-color: #E2EBFA;\n",
              "      --hover-fill-color: #174EA6;\n",
              "      --disabled-fill-color: #AAA;\n",
              "      --disabled-bg-color: #DDD;\n",
              "  }\n",
              "\n",
              "  [theme=dark] .colab-df-quickchart {\n",
              "      --bg-color: #3B4455;\n",
              "      --fill-color: #D2E3FC;\n",
              "      --hover-bg-color: #434B5C;\n",
              "      --hover-fill-color: #FFFFFF;\n",
              "      --disabled-bg-color: #3B4455;\n",
              "      --disabled-fill-color: #666;\n",
              "  }\n",
              "\n",
              "  .colab-df-quickchart {\n",
              "    background-color: var(--bg-color);\n",
              "    border: none;\n",
              "    border-radius: 50%;\n",
              "    cursor: pointer;\n",
              "    display: none;\n",
              "    fill: var(--fill-color);\n",
              "    height: 32px;\n",
              "    padding: 0;\n",
              "    width: 32px;\n",
              "  }\n",
              "\n",
              "  .colab-df-quickchart:hover {\n",
              "    background-color: var(--hover-bg-color);\n",
              "    box-shadow: 0 1px 2px rgba(60, 64, 67, 0.3), 0 1px 3px 1px rgba(60, 64, 67, 0.15);\n",
              "    fill: var(--button-hover-fill-color);\n",
              "  }\n",
              "\n",
              "  .colab-df-quickchart-complete:disabled,\n",
              "  .colab-df-quickchart-complete:disabled:hover {\n",
              "    background-color: var(--disabled-bg-color);\n",
              "    fill: var(--disabled-fill-color);\n",
              "    box-shadow: none;\n",
              "  }\n",
              "\n",
              "  .colab-df-spinner {\n",
              "    border: 2px solid var(--fill-color);\n",
              "    border-color: transparent;\n",
              "    border-bottom-color: var(--fill-color);\n",
              "    animation:\n",
              "      spin 1s steps(1) infinite;\n",
              "  }\n",
              "\n",
              "  @keyframes spin {\n",
              "    0% {\n",
              "      border-color: transparent;\n",
              "      border-bottom-color: var(--fill-color);\n",
              "      border-left-color: var(--fill-color);\n",
              "    }\n",
              "    20% {\n",
              "      border-color: transparent;\n",
              "      border-left-color: var(--fill-color);\n",
              "      border-top-color: var(--fill-color);\n",
              "    }\n",
              "    30% {\n",
              "      border-color: transparent;\n",
              "      border-left-color: var(--fill-color);\n",
              "      border-top-color: var(--fill-color);\n",
              "      border-right-color: var(--fill-color);\n",
              "    }\n",
              "    40% {\n",
              "      border-color: transparent;\n",
              "      border-right-color: var(--fill-color);\n",
              "      border-top-color: var(--fill-color);\n",
              "    }\n",
              "    60% {\n",
              "      border-color: transparent;\n",
              "      border-right-color: var(--fill-color);\n",
              "    }\n",
              "    80% {\n",
              "      border-color: transparent;\n",
              "      border-right-color: var(--fill-color);\n",
              "      border-bottom-color: var(--fill-color);\n",
              "    }\n",
              "    90% {\n",
              "      border-color: transparent;\n",
              "      border-bottom-color: var(--fill-color);\n",
              "    }\n",
              "  }\n",
              "</style>\n",
              "\n",
              "  <script>\n",
              "    async function quickchart(key) {\n",
              "      const quickchartButtonEl =\n",
              "        document.querySelector('#' + key + ' button');\n",
              "      quickchartButtonEl.disabled = true;  // To prevent multiple clicks.\n",
              "      quickchartButtonEl.classList.add('colab-df-spinner');\n",
              "      try {\n",
              "        const charts = await google.colab.kernel.invokeFunction(\n",
              "            'suggestCharts', [key], {});\n",
              "      } catch (error) {\n",
              "        console.error('Error during call to suggestCharts:', error);\n",
              "      }\n",
              "      quickchartButtonEl.classList.remove('colab-df-spinner');\n",
              "      quickchartButtonEl.classList.add('colab-df-quickchart-complete');\n",
              "    }\n",
              "    (() => {\n",
              "      let quickchartButtonEl =\n",
              "        document.querySelector('#df-b53faad6-89d5-4766-b89b-f59b2de8576a button');\n",
              "      quickchartButtonEl.style.display =\n",
              "        google.colab.kernel.accessAllowed ? 'block' : 'none';\n",
              "    })();\n",
              "  </script>\n",
              "</div>\n",
              "    </div>\n",
              "  </div>\n"
            ]
          },
          "metadata": {},
          "execution_count": 7
        }
      ]
    },
    {
      "cell_type": "markdown",
      "source": [
        "###**Data Wrangling**"
      ],
      "metadata": {
        "id": "SM4dNmFV16bk"
      }
    },
    {
      "cell_type": "code",
      "source": [
        "#Checking for duplicate values\n",
        "lead_data.duplicated().sum()"
      ],
      "metadata": {
        "colab": {
          "base_uri": "https://localhost:8080/"
        },
        "id": "Djh9SP-5yt2A",
        "outputId": "7276b418-ef0e-454a-9d06-e09d1b0b1bdf"
      },
      "execution_count": null,
      "outputs": [
        {
          "output_type": "execute_result",
          "data": {
            "text/plain": [
              "0"
            ]
          },
          "metadata": {},
          "execution_count": 8
        }
      ]
    },
    {
      "cell_type": "code",
      "source": [
        "# Checking value counts of all the variable\n",
        "for col in lead_data.columns:\n",
        "  print(lead_data[col].value_counts())\n",
        "  print('-----------------------------------------------------')"
      ],
      "metadata": {
        "id": "0QWbOjCSuEyg",
        "colab": {
          "base_uri": "https://localhost:8080/"
        },
        "outputId": "3910f979-d9af-4cad-965c-98eb04249bb2"
      },
      "execution_count": null,
      "outputs": [
        {
          "output_type": "stream",
          "name": "stdout",
          "text": [
            "7927b2df-8bba-4d29-b9a2-b6e0beafe620    1\n",
            "22e9d4ef-d294-4ebf-81c7-7c7a1105aeea    1\n",
            "46befc49-253a-419b-abea-2fd978d2e2b1    1\n",
            "9d35a2c2-09d8-439f-9875-0e8bbf267f5a    1\n",
            "f0de9371-4dc2-48c2-9785-a08d6fc4fcb5    1\n",
            "                                       ..\n",
            "ff1f7582-cb7b-4b94-9cdc-3d0d0afdd9a3    1\n",
            "644099a2-3da4-4d23-9546-7676340a372b    1\n",
            "2a093175-415b-4321-9e69-ed8d9df65a3c    1\n",
            "c66249a3-8500-4c66-a511-312d914573de    1\n",
            "571b5c8e-a5b2-4d57-8574-f2ffb06fdeff    1\n",
            "Name: Prospect ID, Length: 9240, dtype: int64\n",
            "-----------------------------------------------------\n",
            "660737    1\n",
            "603303    1\n",
            "602561    1\n",
            "602557    1\n",
            "602540    1\n",
            "         ..\n",
            "630422    1\n",
            "630405    1\n",
            "630403    1\n",
            "630390    1\n",
            "579533    1\n",
            "Name: Lead Number, Length: 9240, dtype: int64\n",
            "-----------------------------------------------------\n",
            "Landing Page Submission    4886\n",
            "API                        3580\n",
            "Lead Add Form               718\n",
            "Lead Import                  55\n",
            "Quick Add Form                1\n",
            "Name: Lead Origin, dtype: int64\n",
            "-----------------------------------------------------\n",
            "Google               2868\n",
            "Direct Traffic       2543\n",
            "Olark Chat           1755\n",
            "Organic Search       1154\n",
            "Reference             534\n",
            "Welingak Website      142\n",
            "Referral Sites        125\n",
            "Facebook               55\n",
            "bing                    6\n",
            "google                  5\n",
            "Click2call              4\n",
            "Press_Release           2\n",
            "Social Media            2\n",
            "Live Chat               2\n",
            "youtubechannel          1\n",
            "testone                 1\n",
            "Pay per Click Ads       1\n",
            "welearnblog_Home        1\n",
            "WeLearn                 1\n",
            "blog                    1\n",
            "NC_EDM                  1\n",
            "Name: Lead Source, dtype: int64\n",
            "-----------------------------------------------------\n",
            "No     8506\n",
            "Yes     734\n",
            "Name: Do Not Email, dtype: int64\n",
            "-----------------------------------------------------\n",
            "No     9238\n",
            "Yes       2\n",
            "Name: Do Not Call, dtype: int64\n",
            "-----------------------------------------------------\n",
            "0    5679\n",
            "1    3561\n",
            "Name: Converted, dtype: int64\n",
            "-----------------------------------------------------\n",
            "0.0      2189\n",
            "2.0      1680\n",
            "3.0      1306\n",
            "4.0      1120\n",
            "5.0       783\n",
            "6.0       466\n",
            "1.0       395\n",
            "7.0       309\n",
            "8.0       224\n",
            "9.0       164\n",
            "10.0      114\n",
            "11.0       86\n",
            "13.0       48\n",
            "12.0       45\n",
            "14.0       36\n",
            "16.0       21\n",
            "15.0       18\n",
            "17.0       16\n",
            "18.0       15\n",
            "20.0       12\n",
            "19.0        9\n",
            "21.0        6\n",
            "23.0        6\n",
            "24.0        5\n",
            "25.0        5\n",
            "27.0        5\n",
            "22.0        3\n",
            "29.0        2\n",
            "28.0        2\n",
            "26.0        2\n",
            "141.0       1\n",
            "55.0        1\n",
            "30.0        1\n",
            "43.0        1\n",
            "74.0        1\n",
            "41.0        1\n",
            "54.0        1\n",
            "115.0       1\n",
            "251.0       1\n",
            "32.0        1\n",
            "42.0        1\n",
            "Name: TotalVisits, dtype: int64\n",
            "-----------------------------------------------------\n",
            "0       2193\n",
            "60        19\n",
            "74        18\n",
            "75        18\n",
            "127       18\n",
            "        ... \n",
            "1701       1\n",
            "1952       1\n",
            "1229       1\n",
            "1743       1\n",
            "927        1\n",
            "Name: Total Time Spent on Website, Length: 1731, dtype: int64\n",
            "-----------------------------------------------------\n",
            "0.00    2189\n",
            "2.00    1795\n",
            "3.00    1196\n",
            "4.00     896\n",
            "1.00     651\n",
            "        ... \n",
            "3.43       1\n",
            "2.56       1\n",
            "6.33       1\n",
            "1.64       1\n",
            "2.08       1\n",
            "Name: Page Views Per Visit, Length: 114, dtype: int64\n",
            "-----------------------------------------------------\n",
            "Email Opened                    3437\n",
            "SMS Sent                        2745\n",
            "Olark Chat Conversation          973\n",
            "Page Visited on Website          640\n",
            "Converted to Lead                428\n",
            "Email Bounced                    326\n",
            "Email Link Clicked               267\n",
            "Form Submitted on Website        116\n",
            "Unreachable                       93\n",
            "Unsubscribed                      61\n",
            "Had a Phone Conversation          30\n",
            "Approached upfront                 9\n",
            "View in browser link Clicked       6\n",
            "Email Received                     2\n",
            "Email Marked Spam                  2\n",
            "Visited Booth in Tradeshow         1\n",
            "Resubscribed to emails             1\n",
            "Name: Last Activity, dtype: int64\n",
            "-----------------------------------------------------\n",
            "India                   6492\n",
            "United States             69\n",
            "United Arab Emirates      53\n",
            "Singapore                 24\n",
            "Saudi Arabia              21\n",
            "United Kingdom            15\n",
            "Australia                 13\n",
            "Qatar                     10\n",
            "Hong Kong                  7\n",
            "Bahrain                    7\n",
            "Oman                       6\n",
            "France                     6\n",
            "unknown                    5\n",
            "South Africa               4\n",
            "Nigeria                    4\n",
            "Germany                    4\n",
            "Kuwait                     4\n",
            "Canada                     4\n",
            "Sweden                     3\n",
            "China                      2\n",
            "Asia/Pacific Region        2\n",
            "Uganda                     2\n",
            "Bangladesh                 2\n",
            "Italy                      2\n",
            "Belgium                    2\n",
            "Netherlands                2\n",
            "Ghana                      2\n",
            "Philippines                2\n",
            "Russia                     1\n",
            "Switzerland                1\n",
            "Vietnam                    1\n",
            "Denmark                    1\n",
            "Tanzania                   1\n",
            "Liberia                    1\n",
            "Malaysia                   1\n",
            "Kenya                      1\n",
            "Sri Lanka                  1\n",
            "Indonesia                  1\n",
            "Name: Country, dtype: int64\n",
            "-----------------------------------------------------\n",
            "Select                               1942\n",
            "Finance Management                    976\n",
            "Human Resource Management             848\n",
            "Marketing Management                  838\n",
            "Operations Management                 503\n",
            "Business Administration               403\n",
            "IT Projects Management                366\n",
            "Supply Chain Management               349\n",
            "Banking, Investment And Insurance     338\n",
            "Travel and Tourism                    203\n",
            "Media and Advertising                 203\n",
            "International Business                178\n",
            "Healthcare Management                 159\n",
            "Hospitality Management                114\n",
            "E-COMMERCE                            112\n",
            "Retail Management                     100\n",
            "Rural and Agribusiness                 73\n",
            "E-Business                             57\n",
            "Services Excellence                    40\n",
            "Name: Specialization, dtype: int64\n",
            "-----------------------------------------------------\n",
            "Select                   5043\n",
            "Online Search             808\n",
            "Word Of Mouth             348\n",
            "Student of SomeSchool     310\n",
            "Other                     186\n",
            "Multiple Sources          152\n",
            "Advertisements             70\n",
            "Social Media               67\n",
            "Email                      26\n",
            "SMS                        23\n",
            "Name: How did you hear about X Education, dtype: int64\n",
            "-----------------------------------------------------\n",
            "Unemployed              5600\n",
            "Working Professional     706\n",
            "Student                  210\n",
            "Other                     16\n",
            "Housewife                 10\n",
            "Businessman                8\n",
            "Name: What is your current occupation, dtype: int64\n",
            "-----------------------------------------------------\n",
            "Better Career Prospects      6528\n",
            "Flexibility & Convenience       2\n",
            "Other                           1\n",
            "Name: What matters most to you in choosing a course, dtype: int64\n",
            "-----------------------------------------------------\n",
            "No     9226\n",
            "Yes      14\n",
            "Name: Search, dtype: int64\n",
            "-----------------------------------------------------\n",
            "No    9240\n",
            "Name: Magazine, dtype: int64\n",
            "-----------------------------------------------------\n",
            "No     9238\n",
            "Yes       2\n",
            "Name: Newspaper Article, dtype: int64\n",
            "-----------------------------------------------------\n",
            "No     9239\n",
            "Yes       1\n",
            "Name: X Education Forums, dtype: int64\n",
            "-----------------------------------------------------\n",
            "No     9239\n",
            "Yes       1\n",
            "Name: Newspaper, dtype: int64\n",
            "-----------------------------------------------------\n",
            "No     9236\n",
            "Yes       4\n",
            "Name: Digital Advertisement, dtype: int64\n",
            "-----------------------------------------------------\n",
            "No     9233\n",
            "Yes       7\n",
            "Name: Through Recommendations, dtype: int64\n",
            "-----------------------------------------------------\n",
            "No    9240\n",
            "Name: Receive More Updates About Our Courses, dtype: int64\n",
            "-----------------------------------------------------\n",
            "Will revert after reading the email                  2072\n",
            "Ringing                                              1203\n",
            "Interested in other courses                           513\n",
            "Already a student                                     465\n",
            "Closed by Horizzon                                    358\n",
            "switched off                                          240\n",
            "Busy                                                  186\n",
            "Lost to EINS                                          175\n",
            "Not doing further education                           145\n",
            "Interested  in full time MBA                          117\n",
            "Graduation in progress                                111\n",
            "invalid number                                         83\n",
            "Diploma holder (Not Eligible)                          63\n",
            "wrong number given                                     47\n",
            "opp hangup                                             33\n",
            "number not provided                                    27\n",
            "in touch with EINS                                     12\n",
            "Lost to Others                                          7\n",
            "Still Thinking                                          6\n",
            "Want to take admission but has financial problems       6\n",
            "In confusion whether part time or DLP                   5\n",
            "Interested in Next batch                                5\n",
            "Lateral student                                         3\n",
            "Shall take in the next coming month                     2\n",
            "University not recognized                               2\n",
            "Recognition issue (DEC approval)                        1\n",
            "Name: Tags, dtype: int64\n",
            "-----------------------------------------------------\n",
            "Might be             1560\n",
            "Not Sure             1092\n",
            "High in Relevance     637\n",
            "Worst                 601\n",
            "Low in Relevance      583\n",
            "Name: Lead Quality, dtype: int64\n",
            "-----------------------------------------------------\n",
            "No    9240\n",
            "Name: Update me on Supply Chain Content, dtype: int64\n",
            "-----------------------------------------------------\n",
            "No    9240\n",
            "Name: Get updates on DM Content, dtype: int64\n",
            "-----------------------------------------------------\n",
            "Select                         4146\n",
            "Potential Lead                 1613\n",
            "Other Leads                     487\n",
            "Student of SomeSchool           241\n",
            "Lateral Student                  24\n",
            "Dual Specialization Student      20\n",
            "Name: Lead Profile, dtype: int64\n",
            "-----------------------------------------------------\n",
            "Mumbai                         3222\n",
            "Select                         2249\n",
            "Thane & Outskirts               752\n",
            "Other Cities                    686\n",
            "Other Cities of Maharashtra     457\n",
            "Other Metro Cities              380\n",
            "Tier II Cities                   74\n",
            "Name: City, dtype: int64\n",
            "-----------------------------------------------------\n",
            "02.Medium    3839\n",
            "01.High       821\n",
            "03.Low        362\n",
            "Name: Asymmetrique Activity Index, dtype: int64\n",
            "-----------------------------------------------------\n",
            "02.Medium    2788\n",
            "01.High      2203\n",
            "03.Low         31\n",
            "Name: Asymmetrique Profile Index, dtype: int64\n",
            "-----------------------------------------------------\n",
            "14.0    1771\n",
            "15.0    1293\n",
            "13.0     775\n",
            "16.0     467\n",
            "17.0     349\n",
            "12.0     196\n",
            "11.0      95\n",
            "10.0      57\n",
            "9.0        9\n",
            "18.0       5\n",
            "8.0        4\n",
            "7.0        1\n",
            "Name: Asymmetrique Activity Score, dtype: int64\n",
            "-----------------------------------------------------\n",
            "15.0    1759\n",
            "18.0    1071\n",
            "16.0     599\n",
            "17.0     579\n",
            "20.0     308\n",
            "19.0     245\n",
            "14.0     226\n",
            "13.0     204\n",
            "12.0      22\n",
            "11.0       9\n",
            "Name: Asymmetrique Profile Score, dtype: int64\n",
            "-----------------------------------------------------\n",
            "No    9240\n",
            "Name: I agree to pay the amount through cheque, dtype: int64\n",
            "-----------------------------------------------------\n",
            "No     6352\n",
            "Yes    2888\n",
            "Name: A free copy of Mastering The Interview, dtype: int64\n",
            "-----------------------------------------------------\n",
            "Modified                        3407\n",
            "Email Opened                    2827\n",
            "SMS Sent                        2172\n",
            "Page Visited on Website          318\n",
            "Olark Chat Conversation          183\n",
            "Email Link Clicked               173\n",
            "Email Bounced                     60\n",
            "Unsubscribed                      47\n",
            "Unreachable                       32\n",
            "Had a Phone Conversation          14\n",
            "Email Marked Spam                  2\n",
            "Approached upfront                 1\n",
            "Resubscribed to emails             1\n",
            "View in browser link Clicked       1\n",
            "Form Submitted on Website          1\n",
            "Email Received                     1\n",
            "Name: Last Notable Activity, dtype: int64\n",
            "-----------------------------------------------------\n"
          ]
        }
      ]
    },
    {
      "cell_type": "code",
      "source": [
        "#Replacing Select label to null values\n",
        "lead_data.replace('Select', np.nan, inplace=True)"
      ],
      "metadata": {
        "id": "NfB9ifKerXA7"
      },
      "execution_count": null,
      "outputs": []
    },
    {
      "cell_type": "code",
      "source": [
        "#Checking Null values\n",
        "lead_data.isnull().sum().sort_values(ascending= False)"
      ],
      "metadata": {
        "id": "aYwRDXHGGkhE",
        "colab": {
          "base_uri": "https://localhost:8080/"
        },
        "outputId": "808a0ba9-656b-41fd-cdeb-1787a1c167a8"
      },
      "execution_count": null,
      "outputs": [
        {
          "output_type": "execute_result",
          "data": {
            "text/plain": [
              "How did you hear about X Education               7250\n",
              "Lead Profile                                     6855\n",
              "Lead Quality                                     4767\n",
              "Asymmetrique Profile Score                       4218\n",
              "Asymmetrique Activity Score                      4218\n",
              "Asymmetrique Activity Index                      4218\n",
              "Asymmetrique Profile Index                       4218\n",
              "City                                             3669\n",
              "Specialization                                   3380\n",
              "Tags                                             3353\n",
              "What matters most to you in choosing a course    2709\n",
              "What is your current occupation                  2690\n",
              "Country                                          2461\n",
              "Page Views Per Visit                              137\n",
              "TotalVisits                                       137\n",
              "Last Activity                                     103\n",
              "Lead Source                                        36\n",
              "Receive More Updates About Our Courses              0\n",
              "I agree to pay the amount through cheque            0\n",
              "Get updates on DM Content                           0\n",
              "Update me on Supply Chain Content                   0\n",
              "A free copy of Mastering The Interview              0\n",
              "Prospect ID                                         0\n",
              "Newspaper Article                                   0\n",
              "Through Recommendations                             0\n",
              "Digital Advertisement                               0\n",
              "Newspaper                                           0\n",
              "X Education Forums                                  0\n",
              "Lead Number                                         0\n",
              "Magazine                                            0\n",
              "Search                                              0\n",
              "Total Time Spent on Website                         0\n",
              "Converted                                           0\n",
              "Do Not Call                                         0\n",
              "Do Not Email                                        0\n",
              "Lead Origin                                         0\n",
              "Last Notable Activity                               0\n",
              "dtype: int64"
            ]
          },
          "metadata": {},
          "execution_count": 11
        }
      ]
    },
    {
      "cell_type": "code",
      "source": [
        "# Percentage of Null Values in Descending order\n",
        "round(lead_data.isnull().sum()/lead_data.shape[0]*100,2).sort_values(ascending = False)"
      ],
      "metadata": {
        "colab": {
          "base_uri": "https://localhost:8080/"
        },
        "id": "Wn_wGXq7oPnV",
        "outputId": "d225d0a6-3a02-45c8-f56c-97b98c1b0c15"
      },
      "execution_count": null,
      "outputs": [
        {
          "output_type": "execute_result",
          "data": {
            "text/plain": [
              "How did you hear about X Education               78.46\n",
              "Lead Profile                                     74.19\n",
              "Lead Quality                                     51.59\n",
              "Asymmetrique Profile Score                       45.65\n",
              "Asymmetrique Activity Score                      45.65\n",
              "Asymmetrique Activity Index                      45.65\n",
              "Asymmetrique Profile Index                       45.65\n",
              "City                                             39.71\n",
              "Specialization                                   36.58\n",
              "Tags                                             36.29\n",
              "What matters most to you in choosing a course    29.32\n",
              "What is your current occupation                  29.11\n",
              "Country                                          26.63\n",
              "Page Views Per Visit                              1.48\n",
              "TotalVisits                                       1.48\n",
              "Last Activity                                     1.11\n",
              "Lead Source                                       0.39\n",
              "Receive More Updates About Our Courses            0.00\n",
              "I agree to pay the amount through cheque          0.00\n",
              "Get updates on DM Content                         0.00\n",
              "Update me on Supply Chain Content                 0.00\n",
              "A free copy of Mastering The Interview            0.00\n",
              "Prospect ID                                       0.00\n",
              "Newspaper Article                                 0.00\n",
              "Through Recommendations                           0.00\n",
              "Digital Advertisement                             0.00\n",
              "Newspaper                                         0.00\n",
              "X Education Forums                                0.00\n",
              "Lead Number                                       0.00\n",
              "Magazine                                          0.00\n",
              "Search                                            0.00\n",
              "Total Time Spent on Website                       0.00\n",
              "Converted                                         0.00\n",
              "Do Not Call                                       0.00\n",
              "Do Not Email                                      0.00\n",
              "Lead Origin                                       0.00\n",
              "Last Notable Activity                             0.00\n",
              "dtype: float64"
            ]
          },
          "metadata": {},
          "execution_count": 12
        }
      ]
    },
    {
      "cell_type": "markdown",
      "source": [
        "There is too much variation in thes parameters so its not reliable to impute any value in it.\n",
        "45% null values means(Asymmetrique columns) we need to drop these columns."
      ],
      "metadata": {
        "id": "F6ASs0Po3WwU"
      }
    },
    {
      "cell_type": "code",
      "source": [
        "# we will drop the columns having more than 40% NA values.\n",
        "lead_data = lead_data.loc[:, lead_data.isnull().sum()/lead_data.shape[0] < .4]"
      ],
      "metadata": {
        "id": "X77epxCruNKq"
      },
      "execution_count": null,
      "outputs": []
    },
    {
      "cell_type": "code",
      "source": [
        "#Checking nulls\n",
        "round(lead_data.isnull().sum()/lead_data.shape[0]*100,2).sort_values(ascending = False)"
      ],
      "metadata": {
        "colab": {
          "base_uri": "https://localhost:8080/"
        },
        "id": "hESMz4jBvnri",
        "outputId": "b5c204aa-33fb-4d7c-b046-f6cbb69224f8"
      },
      "execution_count": null,
      "outputs": [
        {
          "output_type": "execute_result",
          "data": {
            "text/plain": [
              "City                                             39.71\n",
              "Specialization                                   36.58\n",
              "Tags                                             36.29\n",
              "What matters most to you in choosing a course    29.32\n",
              "What is your current occupation                  29.11\n",
              "Country                                          26.63\n",
              "Page Views Per Visit                              1.48\n",
              "TotalVisits                                       1.48\n",
              "Last Activity                                     1.11\n",
              "Lead Source                                       0.39\n",
              "Through Recommendations                           0.00\n",
              "Receive More Updates About Our Courses            0.00\n",
              "Prospect ID                                       0.00\n",
              "Newspaper                                         0.00\n",
              "Update me on Supply Chain Content                 0.00\n",
              "Get updates on DM Content                         0.00\n",
              "I agree to pay the amount through cheque          0.00\n",
              "A free copy of Mastering The Interview            0.00\n",
              "Digital Advertisement                             0.00\n",
              "Search                                            0.00\n",
              "X Education Forums                                0.00\n",
              "Newspaper Article                                 0.00\n",
              "Magazine                                          0.00\n",
              "Lead Number                                       0.00\n",
              "Total Time Spent on Website                       0.00\n",
              "Converted                                         0.00\n",
              "Do Not Call                                       0.00\n",
              "Do Not Email                                      0.00\n",
              "Lead Origin                                       0.00\n",
              "Last Notable Activity                             0.00\n",
              "dtype: float64"
            ]
          },
          "metadata": {},
          "execution_count": 14
        }
      ]
    },
    {
      "cell_type": "markdown",
      "source": [
        "Also notice that when you got the value counts of all the columns, there were a few columns in which only one value was majorly present for all the data points (Class Imbalance). These include columns Do Not Call , Search , Magazine ,Newspaper Article , X Education Forums , Newspaper , Digital Advertisement , Through Recommendations , Receive More Updates About Our Courses , Update me on Supply Chain Content , Get updates on DM Content , I agree to pay the amount through cheque . Since practically all of the values for these variables are No , it's best that we drop these columns as they won't help with our analysis.\n"
      ],
      "metadata": {
        "id": "A-V7_fFxwrb8"
      }
    },
    {
      "cell_type": "code",
      "source": [
        "#Dropping data having class imbalance\n",
        "lead_data.drop(['Search', 'Magazine', 'Newspaper Article', 'X Education Forums',\n",
        "'Digital Advertisement', 'Through Recommendations', 'Receive More Updates About Our Courses',\n",
        "'Update me on Supply Chain Content', 'Get updates on DM Content',\n",
        "'I agree to pay the amount through cheque'], axis = 1, inplace = True)"
      ],
      "metadata": {
        "id": "5emYl5lMkHDu"
      },
      "execution_count": null,
      "outputs": []
    },
    {
      "cell_type": "code",
      "source": [
        "#Checking percent of missing data\n",
        "lead_data.isnull().sum()/lead_data.shape[0]*100"
      ],
      "metadata": {
        "colab": {
          "base_uri": "https://localhost:8080/"
        },
        "id": "tlFpr2Xi0YSE",
        "outputId": "048b59a2-8cc8-4b98-eacb-dd588572fb25"
      },
      "execution_count": null,
      "outputs": [
        {
          "output_type": "execute_result",
          "data": {
            "text/plain": [
              "Prospect ID                                       0.000000\n",
              "Lead Number                                       0.000000\n",
              "Lead Origin                                       0.000000\n",
              "Lead Source                                       0.389610\n",
              "Do Not Email                                      0.000000\n",
              "Converted                                         0.000000\n",
              "TotalVisits                                       1.482684\n",
              "Total Time Spent on Website                       0.000000\n",
              "Page Views Per Visit                              1.482684\n",
              "Last Activity                                     1.114719\n",
              "Country                                          26.634199\n",
              "Specialization                                   36.580087\n",
              "What is your current occupation                  29.112554\n",
              "What matters most to you in choosing a course    29.318182\n",
              "Newspaper                                         0.000000\n",
              "Tags                                             36.287879\n",
              "City                                             39.707792\n",
              "A free copy of Mastering The Interview            0.000000\n",
              "Last Notable Activity                             0.000000\n",
              "dtype: float64"
            ]
          },
          "metadata": {},
          "execution_count": 16
        }
      ]
    },
    {
      "cell_type": "code",
      "source": [
        "#Dealing with City\n",
        "lead_data.City.value_counts()"
      ],
      "metadata": {
        "colab": {
          "base_uri": "https://localhost:8080/"
        },
        "id": "oBIjkCn05ijO",
        "outputId": "18cd09b3-a538-4ca8-ec8b-165fdba29099"
      },
      "execution_count": null,
      "outputs": [
        {
          "output_type": "execute_result",
          "data": {
            "text/plain": [
              "Mumbai                         3222\n",
              "Thane & Outskirts               752\n",
              "Other Cities                    686\n",
              "Other Cities of Maharashtra     457\n",
              "Other Metro Cities              380\n",
              "Tier II Cities                   74\n",
              "Name: City, dtype: int64"
            ]
          },
          "metadata": {},
          "execution_count": 17
        }
      ]
    },
    {
      "cell_type": "markdown",
      "source": [
        "**Replacing mode in nulls columns**. As per analysis we can say around 60% of the data is mumbai. So, we impute Mumbai in nulls."
      ],
      "metadata": {
        "id": "HF2MVuZl6edV"
      }
    },
    {
      "cell_type": "code",
      "source": [
        "#replacing Mumbai in null\n",
        "lead_data['City'].replace(np.nan, 'Mumbai', inplace=True)"
      ],
      "metadata": {
        "id": "qUN1JKC854TZ"
      },
      "execution_count": null,
      "outputs": []
    },
    {
      "cell_type": "code",
      "source": [
        "#Dealing tags column\n",
        "lead_data.Tags.value_counts()\n",
        "# lead_data.Tags.isnull().sum()"
      ],
      "metadata": {
        "colab": {
          "base_uri": "https://localhost:8080/"
        },
        "id": "WE214eMm68Qp",
        "outputId": "548a039a-f053-4f39-97f9-5887c5731917"
      },
      "execution_count": null,
      "outputs": [
        {
          "output_type": "execute_result",
          "data": {
            "text/plain": [
              "Will revert after reading the email                  2072\n",
              "Ringing                                              1203\n",
              "Interested in other courses                           513\n",
              "Already a student                                     465\n",
              "Closed by Horizzon                                    358\n",
              "switched off                                          240\n",
              "Busy                                                  186\n",
              "Lost to EINS                                          175\n",
              "Not doing further education                           145\n",
              "Interested  in full time MBA                          117\n",
              "Graduation in progress                                111\n",
              "invalid number                                         83\n",
              "Diploma holder (Not Eligible)                          63\n",
              "wrong number given                                     47\n",
              "opp hangup                                             33\n",
              "number not provided                                    27\n",
              "in touch with EINS                                     12\n",
              "Lost to Others                                          7\n",
              "Still Thinking                                          6\n",
              "Want to take admission but has financial problems       6\n",
              "In confusion whether part time or DLP                   5\n",
              "Interested in Next batch                                5\n",
              "Lateral student                                         3\n",
              "Shall take in the next coming month                     2\n",
              "University not recognized                               2\n",
              "Recognition issue (DEC approval)                        1\n",
              "Name: Tags, dtype: int64"
            ]
          },
          "metadata": {},
          "execution_count": 19
        }
      ]
    },
    {
      "cell_type": "code",
      "source": [
        "# Dealing with Tags column\n",
        "lead_data['Tags'] = lead_data['Tags'].replace(np.nan, 'Will revert after reading the email')"
      ],
      "metadata": {
        "id": "bz7i8eIL7Aag"
      },
      "execution_count": null,
      "outputs": []
    },
    {
      "cell_type": "code",
      "source": [
        "#Dealing with 'What matters most to you in choosing a course' column\n",
        "lead_data['What matters most to you in choosing a course'].value_counts()"
      ],
      "metadata": {
        "colab": {
          "base_uri": "https://localhost:8080/"
        },
        "id": "4YfXBcW6NTi-",
        "outputId": "889d74c0-d059-4930-bdad-21bceea6242c"
      },
      "execution_count": null,
      "outputs": [
        {
          "output_type": "execute_result",
          "data": {
            "text/plain": [
              "Better Career Prospects      6528\n",
              "Flexibility & Convenience       2\n",
              "Other                           1\n",
              "Name: What matters most to you in choosing a course, dtype: int64"
            ]
          },
          "metadata": {},
          "execution_count": 21
        }
      ]
    },
    {
      "cell_type": "code",
      "source": [
        "# Dealing with 'What matters most to you in choosing a course' column\n",
        "lead_data['What matters most to you in choosing a course'] = lead_data['What matters most to you in choosing a course'].replace(np.nan, 'Better Career Prospects')"
      ],
      "metadata": {
        "id": "yeem06-GOqXS"
      },
      "execution_count": null,
      "outputs": []
    },
    {
      "cell_type": "code",
      "source": [
        "#value counts of 'What is your current occupation'\n",
        "lead_data['What is your current occupation'].value_counts()"
      ],
      "metadata": {
        "colab": {
          "base_uri": "https://localhost:8080/"
        },
        "id": "Meq3gpBwQidG",
        "outputId": "6a27ee9d-6993-4549-b174-0d673290062e"
      },
      "execution_count": null,
      "outputs": [
        {
          "output_type": "execute_result",
          "data": {
            "text/plain": [
              "Unemployed              5600\n",
              "Working Professional     706\n",
              "Student                  210\n",
              "Other                     16\n",
              "Housewife                 10\n",
              "Businessman                8\n",
              "Name: What is your current occupation, dtype: int64"
            ]
          },
          "metadata": {},
          "execution_count": 23
        }
      ]
    },
    {
      "cell_type": "code",
      "source": [
        "# 86% entries are of Unemployed so we can impute \"Unemployed\" in it.\n",
        "lead_data['What is your current occupation'] = lead_data['What is your current occupation'].replace(np.nan, 'Unemployed')"
      ],
      "metadata": {
        "id": "Kz6pykAlOq9O"
      },
      "execution_count": null,
      "outputs": []
    },
    {
      "cell_type": "code",
      "source": [
        "# Country is India for most values so let's impute the same in missing values.\n",
        "lead_data['Country'] = lead_data['Country'].replace(np.nan, 'India')"
      ],
      "metadata": {
        "id": "jiXZ_6fuRpGQ"
      },
      "execution_count": null,
      "outputs": []
    },
    {
      "cell_type": "markdown",
      "source": [
        "It maybe the case that lead has not entered any specialization if his/her option is not availabe on the list,\n",
        "may not have any specialization or is a student.\n",
        "Hence we can make a category \"Others\" for missing values."
      ],
      "metadata": {
        "id": "ZydpdyaqSLQd"
      }
    },
    {
      "cell_type": "code",
      "source": [
        "lead_data['Specialization'].value_counts()"
      ],
      "metadata": {
        "colab": {
          "base_uri": "https://localhost:8080/"
        },
        "id": "v41iAAnuSEEg",
        "outputId": "be57d8b8-3c77-4f63-b5c7-575480ff7ca9"
      },
      "execution_count": null,
      "outputs": [
        {
          "output_type": "execute_result",
          "data": {
            "text/plain": [
              "Finance Management                   976\n",
              "Human Resource Management            848\n",
              "Marketing Management                 838\n",
              "Operations Management                503\n",
              "Business Administration              403\n",
              "IT Projects Management               366\n",
              "Supply Chain Management              349\n",
              "Banking, Investment And Insurance    338\n",
              "Travel and Tourism                   203\n",
              "Media and Advertising                203\n",
              "International Business               178\n",
              "Healthcare Management                159\n",
              "Hospitality Management               114\n",
              "E-COMMERCE                           112\n",
              "Retail Management                    100\n",
              "Rural and Agribusiness                73\n",
              "E-Business                            57\n",
              "Services Excellence                   40\n",
              "Name: Specialization, dtype: int64"
            ]
          },
          "metadata": {},
          "execution_count": 26
        }
      ]
    },
    {
      "cell_type": "code",
      "source": [
        "#Dealing with Specialization column\n",
        "lead_data['Specialization'] = lead_data['Specialization'].replace(np.nan, 'Others')"
      ],
      "metadata": {
        "id": "3R98g_z3R4yl"
      },
      "execution_count": null,
      "outputs": []
    },
    {
      "cell_type": "code",
      "source": [
        "#Checking nulls percentage\n",
        "lead_data.isnull().sum()/lead_data.shape[0]*100"
      ],
      "metadata": {
        "colab": {
          "base_uri": "https://localhost:8080/"
        },
        "id": "f4jZt6l0Skyx",
        "outputId": "d205a7c3-aac0-458a-f4ea-3683502e2d69"
      },
      "execution_count": null,
      "outputs": [
        {
          "output_type": "execute_result",
          "data": {
            "text/plain": [
              "Prospect ID                                      0.000000\n",
              "Lead Number                                      0.000000\n",
              "Lead Origin                                      0.000000\n",
              "Lead Source                                      0.389610\n",
              "Do Not Email                                     0.000000\n",
              "Converted                                        0.000000\n",
              "TotalVisits                                      1.482684\n",
              "Total Time Spent on Website                      0.000000\n",
              "Page Views Per Visit                             1.482684\n",
              "Last Activity                                    1.114719\n",
              "Country                                          0.000000\n",
              "Specialization                                   0.000000\n",
              "What is your current occupation                  0.000000\n",
              "What matters most to you in choosing a course    0.000000\n",
              "Newspaper                                        0.000000\n",
              "Tags                                             0.000000\n",
              "City                                             0.000000\n",
              "A free copy of Mastering The Interview           0.000000\n",
              "Last Notable Activity                            0.000000\n",
              "dtype: float64"
            ]
          },
          "metadata": {},
          "execution_count": 28
        }
      ]
    },
    {
      "cell_type": "markdown",
      "source": [
        "we can say that approximatly one percent of missing data is available in some of the columns. So, simply we can remove that rows which are contains missing."
      ],
      "metadata": {
        "id": "Rlm0zgDoYlgc"
      }
    },
    {
      "cell_type": "code",
      "source": [
        "#Removing remaining null values from the rows\n",
        "lead_data.dropna(subset=['Do Not Email','Total Time Spent on Website','Page Views Per Visit','Last Activity','Lead Source' ], inplace=True)"
      ],
      "metadata": {
        "id": "vQuvKyBqUvY8"
      },
      "execution_count": null,
      "outputs": []
    },
    {
      "cell_type": "code",
      "source": [
        "# Checking nulls\n",
        "lead_data.isnull().sum()"
      ],
      "metadata": {
        "colab": {
          "base_uri": "https://localhost:8080/"
        },
        "id": "3NDxyIM6ZqpH",
        "outputId": "192bd640-a26c-48f9-ca62-0a41c02efaf0"
      },
      "execution_count": null,
      "outputs": [
        {
          "output_type": "execute_result",
          "data": {
            "text/plain": [
              "Prospect ID                                      0\n",
              "Lead Number                                      0\n",
              "Lead Origin                                      0\n",
              "Lead Source                                      0\n",
              "Do Not Email                                     0\n",
              "Converted                                        0\n",
              "TotalVisits                                      0\n",
              "Total Time Spent on Website                      0\n",
              "Page Views Per Visit                             0\n",
              "Last Activity                                    0\n",
              "Country                                          0\n",
              "Specialization                                   0\n",
              "What is your current occupation                  0\n",
              "What matters most to you in choosing a course    0\n",
              "Newspaper                                        0\n",
              "Tags                                             0\n",
              "City                                             0\n",
              "A free copy of Mastering The Interview           0\n",
              "Last Notable Activity                            0\n",
              "dtype: int64"
            ]
          },
          "metadata": {},
          "execution_count": 30
        }
      ]
    },
    {
      "cell_type": "code",
      "source": [
        "#fist look\n",
        "lead_data.head()"
      ],
      "metadata": {
        "colab": {
          "base_uri": "https://localhost:8080/"
        },
        "id": "rc6kVK_nZtyQ",
        "outputId": "8d8da910-640f-47f3-e2cd-d6ec357bc60a"
      },
      "execution_count": null,
      "outputs": [
        {
          "output_type": "execute_result",
          "data": {
            "text/plain": [
              "                            Prospect ID  Lead Number              Lead Origin  \\\n",
              "0  7927b2df-8bba-4d29-b9a2-b6e0beafe620       660737                      API   \n",
              "1  2a272436-5132-4136-86fa-dcc88c88f482       660728                      API   \n",
              "2  8cc8c611-a219-4f35-ad23-fdfd2656bd8a       660727  Landing Page Submission   \n",
              "3  0cc2df48-7cf4-4e39-9de9-19797f9b38cc       660719  Landing Page Submission   \n",
              "4  3256f628-e534-4826-9d63-4a8b88782852       660681  Landing Page Submission   \n",
              "\n",
              "      Lead Source Do Not Email  Converted  TotalVisits  \\\n",
              "0      Olark Chat           No          0          0.0   \n",
              "1  Organic Search           No          0          5.0   \n",
              "2  Direct Traffic           No          1          2.0   \n",
              "3  Direct Traffic           No          0          1.0   \n",
              "4          Google           No          1          2.0   \n",
              "\n",
              "   Total Time Spent on Website  Page Views Per Visit            Last Activity  \\\n",
              "0                            0                   0.0  Page Visited on Website   \n",
              "1                          674                   2.5             Email Opened   \n",
              "2                         1532                   2.0             Email Opened   \n",
              "3                          305                   1.0              Unreachable   \n",
              "4                         1428                   1.0        Converted to Lead   \n",
              "\n",
              "  Country           Specialization What is your current occupation  \\\n",
              "0   India                   Others                      Unemployed   \n",
              "1   India                   Others                      Unemployed   \n",
              "2   India  Business Administration                         Student   \n",
              "3   India    Media and Advertising                      Unemployed   \n",
              "4   India                   Others                      Unemployed   \n",
              "\n",
              "  What matters most to you in choosing a course Newspaper  \\\n",
              "0                       Better Career Prospects        No   \n",
              "1                       Better Career Prospects        No   \n",
              "2                       Better Career Prospects        No   \n",
              "3                       Better Career Prospects        No   \n",
              "4                       Better Career Prospects        No   \n",
              "\n",
              "                                  Tags    City  \\\n",
              "0          Interested in other courses  Mumbai   \n",
              "1                              Ringing  Mumbai   \n",
              "2  Will revert after reading the email  Mumbai   \n",
              "3                              Ringing  Mumbai   \n",
              "4  Will revert after reading the email  Mumbai   \n",
              "\n",
              "  A free copy of Mastering The Interview Last Notable Activity  \n",
              "0                                     No              Modified  \n",
              "1                                     No          Email Opened  \n",
              "2                                    Yes          Email Opened  \n",
              "3                                     No              Modified  \n",
              "4                                     No              Modified  "
            ],
            "text/html": [
              "\n",
              "  <div id=\"df-e230f95a-09f7-4a17-a654-542e2ea5bf90\" class=\"colab-df-container\">\n",
              "    <div>\n",
              "<style scoped>\n",
              "    .dataframe tbody tr th:only-of-type {\n",
              "        vertical-align: middle;\n",
              "    }\n",
              "\n",
              "    .dataframe tbody tr th {\n",
              "        vertical-align: top;\n",
              "    }\n",
              "\n",
              "    .dataframe thead th {\n",
              "        text-align: right;\n",
              "    }\n",
              "</style>\n",
              "<table border=\"1\" class=\"dataframe\">\n",
              "  <thead>\n",
              "    <tr style=\"text-align: right;\">\n",
              "      <th></th>\n",
              "      <th>Prospect ID</th>\n",
              "      <th>Lead Number</th>\n",
              "      <th>Lead Origin</th>\n",
              "      <th>Lead Source</th>\n",
              "      <th>Do Not Email</th>\n",
              "      <th>Converted</th>\n",
              "      <th>TotalVisits</th>\n",
              "      <th>Total Time Spent on Website</th>\n",
              "      <th>Page Views Per Visit</th>\n",
              "      <th>Last Activity</th>\n",
              "      <th>Country</th>\n",
              "      <th>Specialization</th>\n",
              "      <th>What is your current occupation</th>\n",
              "      <th>What matters most to you in choosing a course</th>\n",
              "      <th>Newspaper</th>\n",
              "      <th>Tags</th>\n",
              "      <th>City</th>\n",
              "      <th>A free copy of Mastering The Interview</th>\n",
              "      <th>Last Notable Activity</th>\n",
              "    </tr>\n",
              "  </thead>\n",
              "  <tbody>\n",
              "    <tr>\n",
              "      <th>0</th>\n",
              "      <td>7927b2df-8bba-4d29-b9a2-b6e0beafe620</td>\n",
              "      <td>660737</td>\n",
              "      <td>API</td>\n",
              "      <td>Olark Chat</td>\n",
              "      <td>No</td>\n",
              "      <td>0</td>\n",
              "      <td>0.0</td>\n",
              "      <td>0</td>\n",
              "      <td>0.0</td>\n",
              "      <td>Page Visited on Website</td>\n",
              "      <td>India</td>\n",
              "      <td>Others</td>\n",
              "      <td>Unemployed</td>\n",
              "      <td>Better Career Prospects</td>\n",
              "      <td>No</td>\n",
              "      <td>Interested in other courses</td>\n",
              "      <td>Mumbai</td>\n",
              "      <td>No</td>\n",
              "      <td>Modified</td>\n",
              "    </tr>\n",
              "    <tr>\n",
              "      <th>1</th>\n",
              "      <td>2a272436-5132-4136-86fa-dcc88c88f482</td>\n",
              "      <td>660728</td>\n",
              "      <td>API</td>\n",
              "      <td>Organic Search</td>\n",
              "      <td>No</td>\n",
              "      <td>0</td>\n",
              "      <td>5.0</td>\n",
              "      <td>674</td>\n",
              "      <td>2.5</td>\n",
              "      <td>Email Opened</td>\n",
              "      <td>India</td>\n",
              "      <td>Others</td>\n",
              "      <td>Unemployed</td>\n",
              "      <td>Better Career Prospects</td>\n",
              "      <td>No</td>\n",
              "      <td>Ringing</td>\n",
              "      <td>Mumbai</td>\n",
              "      <td>No</td>\n",
              "      <td>Email Opened</td>\n",
              "    </tr>\n",
              "    <tr>\n",
              "      <th>2</th>\n",
              "      <td>8cc8c611-a219-4f35-ad23-fdfd2656bd8a</td>\n",
              "      <td>660727</td>\n",
              "      <td>Landing Page Submission</td>\n",
              "      <td>Direct Traffic</td>\n",
              "      <td>No</td>\n",
              "      <td>1</td>\n",
              "      <td>2.0</td>\n",
              "      <td>1532</td>\n",
              "      <td>2.0</td>\n",
              "      <td>Email Opened</td>\n",
              "      <td>India</td>\n",
              "      <td>Business Administration</td>\n",
              "      <td>Student</td>\n",
              "      <td>Better Career Prospects</td>\n",
              "      <td>No</td>\n",
              "      <td>Will revert after reading the email</td>\n",
              "      <td>Mumbai</td>\n",
              "      <td>Yes</td>\n",
              "      <td>Email Opened</td>\n",
              "    </tr>\n",
              "    <tr>\n",
              "      <th>3</th>\n",
              "      <td>0cc2df48-7cf4-4e39-9de9-19797f9b38cc</td>\n",
              "      <td>660719</td>\n",
              "      <td>Landing Page Submission</td>\n",
              "      <td>Direct Traffic</td>\n",
              "      <td>No</td>\n",
              "      <td>0</td>\n",
              "      <td>1.0</td>\n",
              "      <td>305</td>\n",
              "      <td>1.0</td>\n",
              "      <td>Unreachable</td>\n",
              "      <td>India</td>\n",
              "      <td>Media and Advertising</td>\n",
              "      <td>Unemployed</td>\n",
              "      <td>Better Career Prospects</td>\n",
              "      <td>No</td>\n",
              "      <td>Ringing</td>\n",
              "      <td>Mumbai</td>\n",
              "      <td>No</td>\n",
              "      <td>Modified</td>\n",
              "    </tr>\n",
              "    <tr>\n",
              "      <th>4</th>\n",
              "      <td>3256f628-e534-4826-9d63-4a8b88782852</td>\n",
              "      <td>660681</td>\n",
              "      <td>Landing Page Submission</td>\n",
              "      <td>Google</td>\n",
              "      <td>No</td>\n",
              "      <td>1</td>\n",
              "      <td>2.0</td>\n",
              "      <td>1428</td>\n",
              "      <td>1.0</td>\n",
              "      <td>Converted to Lead</td>\n",
              "      <td>India</td>\n",
              "      <td>Others</td>\n",
              "      <td>Unemployed</td>\n",
              "      <td>Better Career Prospects</td>\n",
              "      <td>No</td>\n",
              "      <td>Will revert after reading the email</td>\n",
              "      <td>Mumbai</td>\n",
              "      <td>No</td>\n",
              "      <td>Modified</td>\n",
              "    </tr>\n",
              "  </tbody>\n",
              "</table>\n",
              "</div>\n",
              "    <div class=\"colab-df-buttons\">\n",
              "\n",
              "  <div class=\"colab-df-container\">\n",
              "    <button class=\"colab-df-convert\" onclick=\"convertToInteractive('df-e230f95a-09f7-4a17-a654-542e2ea5bf90')\"\n",
              "            title=\"Convert this dataframe to an interactive table.\"\n",
              "            style=\"display:none;\">\n",
              "\n",
              "  <svg xmlns=\"http://www.w3.org/2000/svg\" height=\"24px\" viewBox=\"0 -960 960 960\">\n",
              "    <path d=\"M120-120v-720h720v720H120Zm60-500h600v-160H180v160Zm220 220h160v-160H400v160Zm0 220h160v-160H400v160ZM180-400h160v-160H180v160Zm440 0h160v-160H620v160ZM180-180h160v-160H180v160Zm440 0h160v-160H620v160Z\"/>\n",
              "  </svg>\n",
              "    </button>\n",
              "\n",
              "  <style>\n",
              "    .colab-df-container {\n",
              "      display:flex;\n",
              "      gap: 12px;\n",
              "    }\n",
              "\n",
              "    .colab-df-convert {\n",
              "      background-color: #E8F0FE;\n",
              "      border: none;\n",
              "      border-radius: 50%;\n",
              "      cursor: pointer;\n",
              "      display: none;\n",
              "      fill: #1967D2;\n",
              "      height: 32px;\n",
              "      padding: 0 0 0 0;\n",
              "      width: 32px;\n",
              "    }\n",
              "\n",
              "    .colab-df-convert:hover {\n",
              "      background-color: #E2EBFA;\n",
              "      box-shadow: 0px 1px 2px rgba(60, 64, 67, 0.3), 0px 1px 3px 1px rgba(60, 64, 67, 0.15);\n",
              "      fill: #174EA6;\n",
              "    }\n",
              "\n",
              "    .colab-df-buttons div {\n",
              "      margin-bottom: 4px;\n",
              "    }\n",
              "\n",
              "    [theme=dark] .colab-df-convert {\n",
              "      background-color: #3B4455;\n",
              "      fill: #D2E3FC;\n",
              "    }\n",
              "\n",
              "    [theme=dark] .colab-df-convert:hover {\n",
              "      background-color: #434B5C;\n",
              "      box-shadow: 0px 1px 3px 1px rgba(0, 0, 0, 0.15);\n",
              "      filter: drop-shadow(0px 1px 2px rgba(0, 0, 0, 0.3));\n",
              "      fill: #FFFFFF;\n",
              "    }\n",
              "  </style>\n",
              "\n",
              "    <script>\n",
              "      const buttonEl =\n",
              "        document.querySelector('#df-e230f95a-09f7-4a17-a654-542e2ea5bf90 button.colab-df-convert');\n",
              "      buttonEl.style.display =\n",
              "        google.colab.kernel.accessAllowed ? 'block' : 'none';\n",
              "\n",
              "      async function convertToInteractive(key) {\n",
              "        const element = document.querySelector('#df-e230f95a-09f7-4a17-a654-542e2ea5bf90');\n",
              "        const dataTable =\n",
              "          await google.colab.kernel.invokeFunction('convertToInteractive',\n",
              "                                                    [key], {});\n",
              "        if (!dataTable) return;\n",
              "\n",
              "        const docLinkHtml = 'Like what you see? Visit the ' +\n",
              "          '<a target=\"_blank\" href=https://colab.research.google.com/notebooks/data_table.ipynb>data table notebook</a>'\n",
              "          + ' to learn more about interactive tables.';\n",
              "        element.innerHTML = '';\n",
              "        dataTable['output_type'] = 'display_data';\n",
              "        await google.colab.output.renderOutput(dataTable, element);\n",
              "        const docLink = document.createElement('div');\n",
              "        docLink.innerHTML = docLinkHtml;\n",
              "        element.appendChild(docLink);\n",
              "      }\n",
              "    </script>\n",
              "  </div>\n",
              "\n",
              "\n",
              "<div id=\"df-fd17a5cf-d156-4ce8-b802-e0180a4057a4\">\n",
              "  <button class=\"colab-df-quickchart\" onclick=\"quickchart('df-fd17a5cf-d156-4ce8-b802-e0180a4057a4')\"\n",
              "            title=\"Suggest charts\"\n",
              "            style=\"display:none;\">\n",
              "\n",
              "<svg xmlns=\"http://www.w3.org/2000/svg\" height=\"24px\"viewBox=\"0 0 24 24\"\n",
              "     width=\"24px\">\n",
              "    <g>\n",
              "        <path d=\"M19 3H5c-1.1 0-2 .9-2 2v14c0 1.1.9 2 2 2h14c1.1 0 2-.9 2-2V5c0-1.1-.9-2-2-2zM9 17H7v-7h2v7zm4 0h-2V7h2v10zm4 0h-2v-4h2v4z\"/>\n",
              "    </g>\n",
              "</svg>\n",
              "  </button>\n",
              "\n",
              "<style>\n",
              "  .colab-df-quickchart {\n",
              "      --bg-color: #E8F0FE;\n",
              "      --fill-color: #1967D2;\n",
              "      --hover-bg-color: #E2EBFA;\n",
              "      --hover-fill-color: #174EA6;\n",
              "      --disabled-fill-color: #AAA;\n",
              "      --disabled-bg-color: #DDD;\n",
              "  }\n",
              "\n",
              "  [theme=dark] .colab-df-quickchart {\n",
              "      --bg-color: #3B4455;\n",
              "      --fill-color: #D2E3FC;\n",
              "      --hover-bg-color: #434B5C;\n",
              "      --hover-fill-color: #FFFFFF;\n",
              "      --disabled-bg-color: #3B4455;\n",
              "      --disabled-fill-color: #666;\n",
              "  }\n",
              "\n",
              "  .colab-df-quickchart {\n",
              "    background-color: var(--bg-color);\n",
              "    border: none;\n",
              "    border-radius: 50%;\n",
              "    cursor: pointer;\n",
              "    display: none;\n",
              "    fill: var(--fill-color);\n",
              "    height: 32px;\n",
              "    padding: 0;\n",
              "    width: 32px;\n",
              "  }\n",
              "\n",
              "  .colab-df-quickchart:hover {\n",
              "    background-color: var(--hover-bg-color);\n",
              "    box-shadow: 0 1px 2px rgba(60, 64, 67, 0.3), 0 1px 3px 1px rgba(60, 64, 67, 0.15);\n",
              "    fill: var(--button-hover-fill-color);\n",
              "  }\n",
              "\n",
              "  .colab-df-quickchart-complete:disabled,\n",
              "  .colab-df-quickchart-complete:disabled:hover {\n",
              "    background-color: var(--disabled-bg-color);\n",
              "    fill: var(--disabled-fill-color);\n",
              "    box-shadow: none;\n",
              "  }\n",
              "\n",
              "  .colab-df-spinner {\n",
              "    border: 2px solid var(--fill-color);\n",
              "    border-color: transparent;\n",
              "    border-bottom-color: var(--fill-color);\n",
              "    animation:\n",
              "      spin 1s steps(1) infinite;\n",
              "  }\n",
              "\n",
              "  @keyframes spin {\n",
              "    0% {\n",
              "      border-color: transparent;\n",
              "      border-bottom-color: var(--fill-color);\n",
              "      border-left-color: var(--fill-color);\n",
              "    }\n",
              "    20% {\n",
              "      border-color: transparent;\n",
              "      border-left-color: var(--fill-color);\n",
              "      border-top-color: var(--fill-color);\n",
              "    }\n",
              "    30% {\n",
              "      border-color: transparent;\n",
              "      border-left-color: var(--fill-color);\n",
              "      border-top-color: var(--fill-color);\n",
              "      border-right-color: var(--fill-color);\n",
              "    }\n",
              "    40% {\n",
              "      border-color: transparent;\n",
              "      border-right-color: var(--fill-color);\n",
              "      border-top-color: var(--fill-color);\n",
              "    }\n",
              "    60% {\n",
              "      border-color: transparent;\n",
              "      border-right-color: var(--fill-color);\n",
              "    }\n",
              "    80% {\n",
              "      border-color: transparent;\n",
              "      border-right-color: var(--fill-color);\n",
              "      border-bottom-color: var(--fill-color);\n",
              "    }\n",
              "    90% {\n",
              "      border-color: transparent;\n",
              "      border-bottom-color: var(--fill-color);\n",
              "    }\n",
              "  }\n",
              "</style>\n",
              "\n",
              "  <script>\n",
              "    async function quickchart(key) {\n",
              "      const quickchartButtonEl =\n",
              "        document.querySelector('#' + key + ' button');\n",
              "      quickchartButtonEl.disabled = true;  // To prevent multiple clicks.\n",
              "      quickchartButtonEl.classList.add('colab-df-spinner');\n",
              "      try {\n",
              "        const charts = await google.colab.kernel.invokeFunction(\n",
              "            'suggestCharts', [key], {});\n",
              "      } catch (error) {\n",
              "        console.error('Error during call to suggestCharts:', error);\n",
              "      }\n",
              "      quickchartButtonEl.classList.remove('colab-df-spinner');\n",
              "      quickchartButtonEl.classList.add('colab-df-quickchart-complete');\n",
              "    }\n",
              "    (() => {\n",
              "      let quickchartButtonEl =\n",
              "        document.querySelector('#df-fd17a5cf-d156-4ce8-b802-e0180a4057a4 button');\n",
              "      quickchartButtonEl.style.display =\n",
              "        google.colab.kernel.accessAllowed ? 'block' : 'none';\n",
              "    })();\n",
              "  </script>\n",
              "</div>\n",
              "    </div>\n",
              "  </div>\n"
            ]
          },
          "metadata": {},
          "execution_count": 31
        }
      ]
    },
    {
      "cell_type": "code",
      "source": [
        "#Dropping prospect_Id and lead_number because we didnt get any insights from it.\n",
        "lead_data.drop(columns=['Prospect ID','Lead Number'], axis=1, inplace=True)"
      ],
      "metadata": {
        "id": "nx7FMq_1aJy-"
      },
      "execution_count": null,
      "outputs": []
    },
    {
      "cell_type": "code",
      "source": [
        "#Checking info and shape\n",
        "print(lead_data.info())\n",
        "print(lead_data.shape)"
      ],
      "metadata": {
        "colab": {
          "base_uri": "https://localhost:8080/"
        },
        "id": "ezppv2UoazJW",
        "outputId": "5c5f0b03-6a9a-409b-9818-f257f3e2b4ea"
      },
      "execution_count": null,
      "outputs": [
        {
          "output_type": "stream",
          "name": "stdout",
          "text": [
            "<class 'pandas.core.frame.DataFrame'>\n",
            "Int64Index: 9074 entries, 0 to 9239\n",
            "Data columns (total 17 columns):\n",
            " #   Column                                         Non-Null Count  Dtype  \n",
            "---  ------                                         --------------  -----  \n",
            " 0   Lead Origin                                    9074 non-null   object \n",
            " 1   Lead Source                                    9074 non-null   object \n",
            " 2   Do Not Email                                   9074 non-null   object \n",
            " 3   Converted                                      9074 non-null   int64  \n",
            " 4   TotalVisits                                    9074 non-null   float64\n",
            " 5   Total Time Spent on Website                    9074 non-null   int64  \n",
            " 6   Page Views Per Visit                           9074 non-null   float64\n",
            " 7   Last Activity                                  9074 non-null   object \n",
            " 8   Country                                        9074 non-null   object \n",
            " 9   Specialization                                 9074 non-null   object \n",
            " 10  What is your current occupation                9074 non-null   object \n",
            " 11  What matters most to you in choosing a course  9074 non-null   object \n",
            " 12  Newspaper                                      9074 non-null   object \n",
            " 13  Tags                                           9074 non-null   object \n",
            " 14  City                                           9074 non-null   object \n",
            " 15  A free copy of Mastering The Interview         9074 non-null   object \n",
            " 16  Last Notable Activity                          9074 non-null   object \n",
            "dtypes: float64(2), int64(2), object(13)\n",
            "memory usage: 1.2+ MB\n",
            "None\n",
            "(9074, 17)\n"
          ]
        }
      ]
    },
    {
      "cell_type": "markdown",
      "source": [
        "#**Data Visualization**"
      ],
      "metadata": {
        "id": "IxthrnIFbIZQ"
      }
    },
    {
      "cell_type": "markdown",
      "source": [
        "###**Univariate And Bivariate Analysis**"
      ],
      "metadata": {
        "id": "xuOnUP9FbSPT"
      }
    },
    {
      "cell_type": "code",
      "source": [
        "lead_data.info()"
      ],
      "metadata": {
        "colab": {
          "base_uri": "https://localhost:8080/"
        },
        "id": "OLatDGmk-1mj",
        "outputId": "57225633-47f2-43d1-d25e-504851bdc6be"
      },
      "execution_count": null,
      "outputs": [
        {
          "output_type": "stream",
          "name": "stdout",
          "text": [
            "<class 'pandas.core.frame.DataFrame'>\n",
            "Int64Index: 9074 entries, 0 to 9239\n",
            "Data columns (total 17 columns):\n",
            " #   Column                                         Non-Null Count  Dtype  \n",
            "---  ------                                         --------------  -----  \n",
            " 0   Lead Origin                                    9074 non-null   object \n",
            " 1   Lead Source                                    9074 non-null   object \n",
            " 2   Do Not Email                                   9074 non-null   object \n",
            " 3   Converted                                      9074 non-null   int64  \n",
            " 4   TotalVisits                                    9074 non-null   float64\n",
            " 5   Total Time Spent on Website                    9074 non-null   int64  \n",
            " 6   Page Views Per Visit                           9074 non-null   float64\n",
            " 7   Last Activity                                  9074 non-null   object \n",
            " 8   Country                                        9074 non-null   object \n",
            " 9   Specialization                                 9074 non-null   object \n",
            " 10  What is your current occupation                9074 non-null   object \n",
            " 11  What matters most to you in choosing a course  9074 non-null   object \n",
            " 12  Newspaper                                      9074 non-null   object \n",
            " 13  Tags                                           9074 non-null   object \n",
            " 14  City                                           9074 non-null   object \n",
            " 15  A free copy of Mastering The Interview         9074 non-null   object \n",
            " 16  Last Notable Activity                          9074 non-null   object \n",
            "dtypes: float64(2), int64(2), object(13)\n",
            "memory usage: 1.2+ MB\n"
          ]
        }
      ]
    },
    {
      "cell_type": "code",
      "source": [
        "lead_data.head()"
      ],
      "metadata": {
        "colab": {
          "base_uri": "https://localhost:8080/",
          "height": 501
        },
        "id": "7MAOR2Bjcbx2",
        "outputId": "5ee57b14-8ba6-419e-f982-2c0a11979684"
      },
      "execution_count": null,
      "outputs": [
        {
          "output_type": "execute_result",
          "data": {
            "text/plain": [
              "               Lead Origin     Lead Source Do Not Email  Converted  \\\n",
              "0                      API      Olark Chat           No          0   \n",
              "1                      API  Organic Search           No          0   \n",
              "2  Landing Page Submission  Direct Traffic           No          1   \n",
              "3  Landing Page Submission  Direct Traffic           No          0   \n",
              "4  Landing Page Submission          Google           No          1   \n",
              "\n",
              "   TotalVisits  Total Time Spent on Website  Page Views Per Visit  \\\n",
              "0          0.0                            0                   0.0   \n",
              "1          5.0                          674                   2.5   \n",
              "2          2.0                         1532                   2.0   \n",
              "3          1.0                          305                   1.0   \n",
              "4          2.0                         1428                   1.0   \n",
              "\n",
              "             Last Activity Country           Specialization  \\\n",
              "0  Page Visited on Website   India                   Others   \n",
              "1             Email Opened   India                   Others   \n",
              "2             Email Opened   India  Business Administration   \n",
              "3              Unreachable   India    Media and Advertising   \n",
              "4        Converted to Lead   India                   Others   \n",
              "\n",
              "  What is your current occupation  \\\n",
              "0                      Unemployed   \n",
              "1                      Unemployed   \n",
              "2                         Student   \n",
              "3                      Unemployed   \n",
              "4                      Unemployed   \n",
              "\n",
              "  What matters most to you in choosing a course Newspaper  \\\n",
              "0                       Better Career Prospects        No   \n",
              "1                       Better Career Prospects        No   \n",
              "2                       Better Career Prospects        No   \n",
              "3                       Better Career Prospects        No   \n",
              "4                       Better Career Prospects        No   \n",
              "\n",
              "                                  Tags    City  \\\n",
              "0          Interested in other courses  Mumbai   \n",
              "1                              Ringing  Mumbai   \n",
              "2  Will revert after reading the email  Mumbai   \n",
              "3                              Ringing  Mumbai   \n",
              "4  Will revert after reading the email  Mumbai   \n",
              "\n",
              "  A free copy of Mastering The Interview Last Notable Activity  \n",
              "0                                     No              Modified  \n",
              "1                                     No          Email Opened  \n",
              "2                                    Yes          Email Opened  \n",
              "3                                     No              Modified  \n",
              "4                                     No              Modified  "
            ],
            "text/html": [
              "\n",
              "  <div id=\"df-3e0a03ba-213c-450d-b8fa-bd7c5f6d4778\" class=\"colab-df-container\">\n",
              "    <div>\n",
              "<style scoped>\n",
              "    .dataframe tbody tr th:only-of-type {\n",
              "        vertical-align: middle;\n",
              "    }\n",
              "\n",
              "    .dataframe tbody tr th {\n",
              "        vertical-align: top;\n",
              "    }\n",
              "\n",
              "    .dataframe thead th {\n",
              "        text-align: right;\n",
              "    }\n",
              "</style>\n",
              "<table border=\"1\" class=\"dataframe\">\n",
              "  <thead>\n",
              "    <tr style=\"text-align: right;\">\n",
              "      <th></th>\n",
              "      <th>Lead Origin</th>\n",
              "      <th>Lead Source</th>\n",
              "      <th>Do Not Email</th>\n",
              "      <th>Converted</th>\n",
              "      <th>TotalVisits</th>\n",
              "      <th>Total Time Spent on Website</th>\n",
              "      <th>Page Views Per Visit</th>\n",
              "      <th>Last Activity</th>\n",
              "      <th>Country</th>\n",
              "      <th>Specialization</th>\n",
              "      <th>What is your current occupation</th>\n",
              "      <th>What matters most to you in choosing a course</th>\n",
              "      <th>Newspaper</th>\n",
              "      <th>Tags</th>\n",
              "      <th>City</th>\n",
              "      <th>A free copy of Mastering The Interview</th>\n",
              "      <th>Last Notable Activity</th>\n",
              "    </tr>\n",
              "  </thead>\n",
              "  <tbody>\n",
              "    <tr>\n",
              "      <th>0</th>\n",
              "      <td>API</td>\n",
              "      <td>Olark Chat</td>\n",
              "      <td>No</td>\n",
              "      <td>0</td>\n",
              "      <td>0.0</td>\n",
              "      <td>0</td>\n",
              "      <td>0.0</td>\n",
              "      <td>Page Visited on Website</td>\n",
              "      <td>India</td>\n",
              "      <td>Others</td>\n",
              "      <td>Unemployed</td>\n",
              "      <td>Better Career Prospects</td>\n",
              "      <td>No</td>\n",
              "      <td>Interested in other courses</td>\n",
              "      <td>Mumbai</td>\n",
              "      <td>No</td>\n",
              "      <td>Modified</td>\n",
              "    </tr>\n",
              "    <tr>\n",
              "      <th>1</th>\n",
              "      <td>API</td>\n",
              "      <td>Organic Search</td>\n",
              "      <td>No</td>\n",
              "      <td>0</td>\n",
              "      <td>5.0</td>\n",
              "      <td>674</td>\n",
              "      <td>2.5</td>\n",
              "      <td>Email Opened</td>\n",
              "      <td>India</td>\n",
              "      <td>Others</td>\n",
              "      <td>Unemployed</td>\n",
              "      <td>Better Career Prospects</td>\n",
              "      <td>No</td>\n",
              "      <td>Ringing</td>\n",
              "      <td>Mumbai</td>\n",
              "      <td>No</td>\n",
              "      <td>Email Opened</td>\n",
              "    </tr>\n",
              "    <tr>\n",
              "      <th>2</th>\n",
              "      <td>Landing Page Submission</td>\n",
              "      <td>Direct Traffic</td>\n",
              "      <td>No</td>\n",
              "      <td>1</td>\n",
              "      <td>2.0</td>\n",
              "      <td>1532</td>\n",
              "      <td>2.0</td>\n",
              "      <td>Email Opened</td>\n",
              "      <td>India</td>\n",
              "      <td>Business Administration</td>\n",
              "      <td>Student</td>\n",
              "      <td>Better Career Prospects</td>\n",
              "      <td>No</td>\n",
              "      <td>Will revert after reading the email</td>\n",
              "      <td>Mumbai</td>\n",
              "      <td>Yes</td>\n",
              "      <td>Email Opened</td>\n",
              "    </tr>\n",
              "    <tr>\n",
              "      <th>3</th>\n",
              "      <td>Landing Page Submission</td>\n",
              "      <td>Direct Traffic</td>\n",
              "      <td>No</td>\n",
              "      <td>0</td>\n",
              "      <td>1.0</td>\n",
              "      <td>305</td>\n",
              "      <td>1.0</td>\n",
              "      <td>Unreachable</td>\n",
              "      <td>India</td>\n",
              "      <td>Media and Advertising</td>\n",
              "      <td>Unemployed</td>\n",
              "      <td>Better Career Prospects</td>\n",
              "      <td>No</td>\n",
              "      <td>Ringing</td>\n",
              "      <td>Mumbai</td>\n",
              "      <td>No</td>\n",
              "      <td>Modified</td>\n",
              "    </tr>\n",
              "    <tr>\n",
              "      <th>4</th>\n",
              "      <td>Landing Page Submission</td>\n",
              "      <td>Google</td>\n",
              "      <td>No</td>\n",
              "      <td>1</td>\n",
              "      <td>2.0</td>\n",
              "      <td>1428</td>\n",
              "      <td>1.0</td>\n",
              "      <td>Converted to Lead</td>\n",
              "      <td>India</td>\n",
              "      <td>Others</td>\n",
              "      <td>Unemployed</td>\n",
              "      <td>Better Career Prospects</td>\n",
              "      <td>No</td>\n",
              "      <td>Will revert after reading the email</td>\n",
              "      <td>Mumbai</td>\n",
              "      <td>No</td>\n",
              "      <td>Modified</td>\n",
              "    </tr>\n",
              "  </tbody>\n",
              "</table>\n",
              "</div>\n",
              "    <div class=\"colab-df-buttons\">\n",
              "\n",
              "  <div class=\"colab-df-container\">\n",
              "    <button class=\"colab-df-convert\" onclick=\"convertToInteractive('df-3e0a03ba-213c-450d-b8fa-bd7c5f6d4778')\"\n",
              "            title=\"Convert this dataframe to an interactive table.\"\n",
              "            style=\"display:none;\">\n",
              "\n",
              "  <svg xmlns=\"http://www.w3.org/2000/svg\" height=\"24px\" viewBox=\"0 -960 960 960\">\n",
              "    <path d=\"M120-120v-720h720v720H120Zm60-500h600v-160H180v160Zm220 220h160v-160H400v160Zm0 220h160v-160H400v160ZM180-400h160v-160H180v160Zm440 0h160v-160H620v160ZM180-180h160v-160H180v160Zm440 0h160v-160H620v160Z\"/>\n",
              "  </svg>\n",
              "    </button>\n",
              "\n",
              "  <style>\n",
              "    .colab-df-container {\n",
              "      display:flex;\n",
              "      gap: 12px;\n",
              "    }\n",
              "\n",
              "    .colab-df-convert {\n",
              "      background-color: #E8F0FE;\n",
              "      border: none;\n",
              "      border-radius: 50%;\n",
              "      cursor: pointer;\n",
              "      display: none;\n",
              "      fill: #1967D2;\n",
              "      height: 32px;\n",
              "      padding: 0 0 0 0;\n",
              "      width: 32px;\n",
              "    }\n",
              "\n",
              "    .colab-df-convert:hover {\n",
              "      background-color: #E2EBFA;\n",
              "      box-shadow: 0px 1px 2px rgba(60, 64, 67, 0.3), 0px 1px 3px 1px rgba(60, 64, 67, 0.15);\n",
              "      fill: #174EA6;\n",
              "    }\n",
              "\n",
              "    .colab-df-buttons div {\n",
              "      margin-bottom: 4px;\n",
              "    }\n",
              "\n",
              "    [theme=dark] .colab-df-convert {\n",
              "      background-color: #3B4455;\n",
              "      fill: #D2E3FC;\n",
              "    }\n",
              "\n",
              "    [theme=dark] .colab-df-convert:hover {\n",
              "      background-color: #434B5C;\n",
              "      box-shadow: 0px 1px 3px 1px rgba(0, 0, 0, 0.15);\n",
              "      filter: drop-shadow(0px 1px 2px rgba(0, 0, 0, 0.3));\n",
              "      fill: #FFFFFF;\n",
              "    }\n",
              "  </style>\n",
              "\n",
              "    <script>\n",
              "      const buttonEl =\n",
              "        document.querySelector('#df-3e0a03ba-213c-450d-b8fa-bd7c5f6d4778 button.colab-df-convert');\n",
              "      buttonEl.style.display =\n",
              "        google.colab.kernel.accessAllowed ? 'block' : 'none';\n",
              "\n",
              "      async function convertToInteractive(key) {\n",
              "        const element = document.querySelector('#df-3e0a03ba-213c-450d-b8fa-bd7c5f6d4778');\n",
              "        const dataTable =\n",
              "          await google.colab.kernel.invokeFunction('convertToInteractive',\n",
              "                                                    [key], {});\n",
              "        if (!dataTable) return;\n",
              "\n",
              "        const docLinkHtml = 'Like what you see? Visit the ' +\n",
              "          '<a target=\"_blank\" href=https://colab.research.google.com/notebooks/data_table.ipynb>data table notebook</a>'\n",
              "          + ' to learn more about interactive tables.';\n",
              "        element.innerHTML = '';\n",
              "        dataTable['output_type'] = 'display_data';\n",
              "        await google.colab.output.renderOutput(dataTable, element);\n",
              "        const docLink = document.createElement('div');\n",
              "        docLink.innerHTML = docLinkHtml;\n",
              "        element.appendChild(docLink);\n",
              "      }\n",
              "    </script>\n",
              "  </div>\n",
              "\n",
              "\n",
              "<div id=\"df-3d8e0256-7b48-4bde-a3be-fab726e67c54\">\n",
              "  <button class=\"colab-df-quickchart\" onclick=\"quickchart('df-3d8e0256-7b48-4bde-a3be-fab726e67c54')\"\n",
              "            title=\"Suggest charts\"\n",
              "            style=\"display:none;\">\n",
              "\n",
              "<svg xmlns=\"http://www.w3.org/2000/svg\" height=\"24px\"viewBox=\"0 0 24 24\"\n",
              "     width=\"24px\">\n",
              "    <g>\n",
              "        <path d=\"M19 3H5c-1.1 0-2 .9-2 2v14c0 1.1.9 2 2 2h14c1.1 0 2-.9 2-2V5c0-1.1-.9-2-2-2zM9 17H7v-7h2v7zm4 0h-2V7h2v10zm4 0h-2v-4h2v4z\"/>\n",
              "    </g>\n",
              "</svg>\n",
              "  </button>\n",
              "\n",
              "<style>\n",
              "  .colab-df-quickchart {\n",
              "      --bg-color: #E8F0FE;\n",
              "      --fill-color: #1967D2;\n",
              "      --hover-bg-color: #E2EBFA;\n",
              "      --hover-fill-color: #174EA6;\n",
              "      --disabled-fill-color: #AAA;\n",
              "      --disabled-bg-color: #DDD;\n",
              "  }\n",
              "\n",
              "  [theme=dark] .colab-df-quickchart {\n",
              "      --bg-color: #3B4455;\n",
              "      --fill-color: #D2E3FC;\n",
              "      --hover-bg-color: #434B5C;\n",
              "      --hover-fill-color: #FFFFFF;\n",
              "      --disabled-bg-color: #3B4455;\n",
              "      --disabled-fill-color: #666;\n",
              "  }\n",
              "\n",
              "  .colab-df-quickchart {\n",
              "    background-color: var(--bg-color);\n",
              "    border: none;\n",
              "    border-radius: 50%;\n",
              "    cursor: pointer;\n",
              "    display: none;\n",
              "    fill: var(--fill-color);\n",
              "    height: 32px;\n",
              "    padding: 0;\n",
              "    width: 32px;\n",
              "  }\n",
              "\n",
              "  .colab-df-quickchart:hover {\n",
              "    background-color: var(--hover-bg-color);\n",
              "    box-shadow: 0 1px 2px rgba(60, 64, 67, 0.3), 0 1px 3px 1px rgba(60, 64, 67, 0.15);\n",
              "    fill: var(--button-hover-fill-color);\n",
              "  }\n",
              "\n",
              "  .colab-df-quickchart-complete:disabled,\n",
              "  .colab-df-quickchart-complete:disabled:hover {\n",
              "    background-color: var(--disabled-bg-color);\n",
              "    fill: var(--disabled-fill-color);\n",
              "    box-shadow: none;\n",
              "  }\n",
              "\n",
              "  .colab-df-spinner {\n",
              "    border: 2px solid var(--fill-color);\n",
              "    border-color: transparent;\n",
              "    border-bottom-color: var(--fill-color);\n",
              "    animation:\n",
              "      spin 1s steps(1) infinite;\n",
              "  }\n",
              "\n",
              "  @keyframes spin {\n",
              "    0% {\n",
              "      border-color: transparent;\n",
              "      border-bottom-color: var(--fill-color);\n",
              "      border-left-color: var(--fill-color);\n",
              "    }\n",
              "    20% {\n",
              "      border-color: transparent;\n",
              "      border-left-color: var(--fill-color);\n",
              "      border-top-color: var(--fill-color);\n",
              "    }\n",
              "    30% {\n",
              "      border-color: transparent;\n",
              "      border-left-color: var(--fill-color);\n",
              "      border-top-color: var(--fill-color);\n",
              "      border-right-color: var(--fill-color);\n",
              "    }\n",
              "    40% {\n",
              "      border-color: transparent;\n",
              "      border-right-color: var(--fill-color);\n",
              "      border-top-color: var(--fill-color);\n",
              "    }\n",
              "    60% {\n",
              "      border-color: transparent;\n",
              "      border-right-color: var(--fill-color);\n",
              "    }\n",
              "    80% {\n",
              "      border-color: transparent;\n",
              "      border-right-color: var(--fill-color);\n",
              "      border-bottom-color: var(--fill-color);\n",
              "    }\n",
              "    90% {\n",
              "      border-color: transparent;\n",
              "      border-bottom-color: var(--fill-color);\n",
              "    }\n",
              "  }\n",
              "</style>\n",
              "\n",
              "  <script>\n",
              "    async function quickchart(key) {\n",
              "      const quickchartButtonEl =\n",
              "        document.querySelector('#' + key + ' button');\n",
              "      quickchartButtonEl.disabled = true;  // To prevent multiple clicks.\n",
              "      quickchartButtonEl.classList.add('colab-df-spinner');\n",
              "      try {\n",
              "        const charts = await google.colab.kernel.invokeFunction(\n",
              "            'suggestCharts', [key], {});\n",
              "      } catch (error) {\n",
              "        console.error('Error during call to suggestCharts:', error);\n",
              "      }\n",
              "      quickchartButtonEl.classList.remove('colab-df-spinner');\n",
              "      quickchartButtonEl.classList.add('colab-df-quickchart-complete');\n",
              "    }\n",
              "    (() => {\n",
              "      let quickchartButtonEl =\n",
              "        document.querySelector('#df-3d8e0256-7b48-4bde-a3be-fab726e67c54 button');\n",
              "      quickchartButtonEl.style.display =\n",
              "        google.colab.kernel.accessAllowed ? 'block' : 'none';\n",
              "    })();\n",
              "  </script>\n",
              "</div>\n",
              "    </div>\n",
              "  </div>\n"
            ]
          },
          "metadata": {},
          "execution_count": 35
        }
      ]
    },
    {
      "cell_type": "code",
      "source": [
        "#Count plot for lead source\n",
        "lead_data['Lead Source'].value_counts().plot(kind='bar')"
      ],
      "metadata": {
        "colab": {
          "base_uri": "https://localhost:8080/",
          "height": 570
        },
        "id": "Rwf_242qxehD",
        "outputId": "1e3372b8-780d-4171-f808-d6a235f02b11"
      },
      "execution_count": 51,
      "outputs": [
        {
          "output_type": "execute_result",
          "data": {
            "text/plain": [
              "<Axes: >"
            ]
          },
          "metadata": {},
          "execution_count": 51
        },
        {
          "output_type": "display_data",
          "data": {
            "text/plain": [
              "<Figure size 640x480 with 1 Axes>"
            ],
            "image/png": "[encoded data removed]"
          },
          "metadata": {}
        }
      ]
    },
    {
      "cell_type": "markdown",
      "source": [
        "Top source of lead comes from google, direct traffic , olark chat and organic search. And some of the leads are generated by referal and social media."
      ],
      "metadata": {
        "id": "ApQ8lBmWP_t6"
      }
    },
    {
      "cell_type": "code",
      "source": [
        "lead_data.City.value_counts().plot(kind='bar')"
      ],
      "metadata": {
        "colab": {
          "base_uri": "https://localhost:8080/",
          "height": 626
        },
        "id": "8kFYXShhxefC",
        "outputId": "fa9443cf-6152-4669-9a6e-adc82d4b9048"
      },
      "execution_count": null,
      "outputs": [
        {
          "output_type": "execute_result",
          "data": {
            "text/plain": [
              "<Axes: >"
            ]
          },
          "metadata": {},
          "execution_count": 37
        },
        {
          "output_type": "display_data",
          "data": {
            "text/plain": [
              "<Figure size 640x480 with 1 Axes>"
            ],
            "image/png": "[encoded data removed]"
          },
          "metadata": {}
        }
      ]
    },
    {
      "cell_type": "markdown",
      "source": [
        "Around 60% of leads comes from Mumbai."
      ],
      "metadata": {
        "id": "9Lj85QZZQWws"
      }
    },
    {
      "cell_type": "code",
      "source": [
        "# Converted is the target variable, Indicates whether a lead has been successfully converted (1) or not (0).\n",
        "Converted = (sum(lead_data['Converted'])/len(lead_data['Converted'].index))*100\n",
        "Converted"
      ],
      "metadata": {
        "id": "UwpMz4YHxebJ",
        "colab": {
          "base_uri": "https://localhost:8080/"
        },
        "outputId": "0c87f2f6-0dfe-4786-86da-12bb4c0a9cc9"
      },
      "execution_count": 43,
      "outputs": [
        {
          "output_type": "execute_result",
          "data": {
            "text/plain": [
              "37.85541106458012"
            ]
          },
          "metadata": {},
          "execution_count": 43
        }
      ]
    },
    {
      "cell_type": "code",
      "source": [
        "#Lead origin with respectr to converted\n",
        "sns.countplot(x = \"Lead Origin\", hue = \"Converted\", data = lead_data)\n",
        "xticks(rotation = 90)"
      ],
      "metadata": {
        "id": "aF0gIhCJxeXt",
        "colab": {
          "base_uri": "https://localhost:8080/",
          "height": 700
        },
        "outputId": "12e26ebf-9711-4ad3-ce25-88d525dd4562"
      },
      "execution_count": 46,
      "outputs": [
        {
          "output_type": "execute_result",
          "data": {
            "text/plain": [
              "(array([0, 1, 2, 3]),\n",
              " [Text(0, 0, 'API'),\n",
              "  Text(1, 0, 'Landing Page Submission'),\n",
              "  Text(2, 0, 'Lead Add Form'),\n",
              "  Text(3, 0, 'Lead Import')])"
            ]
          },
          "metadata": {},
          "execution_count": 46
        },
        {
          "output_type": "display_data",
          "data": {
            "text/plain": [
              "<Figure size 640x480 with 1 Axes>"
            ],
            "image/png": "[encoded data removed]"
          },
          "metadata": {}
        }
      ]
    },
    {
      "cell_type": "markdown",
      "source": [
        "API and Landing Page Submission have 30-35% conversion rate but count of lead originated from them are considerable.        \n",
        "\n",
        "Lead Add Form has more than 90% conversion rate but count of lead are not very high.                  \n",
        "\n",
        "Lead Import are very less in count.\n",
        "\n",
        "To improve overall lead conversion rate, we need to focus more on improving lead converion of API and Landing Page Submission origin and generate more leads from Lead Add Form."
      ],
      "metadata": {
        "id": "SbDlN09PPe84"
      }
    },
    {
      "cell_type": "code",
      "source": [
        "fig, axs = plt.subplots(figsize = (15,7.5))\n",
        "sns.countplot(x = \"Lead Source\", hue = \"Converted\", data = lead_data)\n",
        "xticks(rotation = 90)"
      ],
      "metadata": {
        "id": "_ywuwtBkxeVI",
        "colab": {
          "base_uri": "https://localhost:8080/",
          "height": 1000
        },
        "outputId": "3b0924e9-79f4-41d2-8c91-de496291e5c6"
      },
      "execution_count": 55,
      "outputs": [
        {
          "output_type": "execute_result",
          "data": {
            "text/plain": [
              "(array([ 0,  1,  2,  3,  4,  5,  6,  7,  8,  9, 10, 11, 12, 13, 14, 15, 16,\n",
              "        17, 18, 19, 20]),\n",
              " [Text(0, 0, 'Olark Chat'),\n",
              "  Text(1, 0, 'Organic Search'),\n",
              "  Text(2, 0, 'Direct Traffic'),\n",
              "  Text(3, 0, 'Google'),\n",
              "  Text(4, 0, 'Referral Sites'),\n",
              "  Text(5, 0, 'Reference'),\n",
              "  Text(6, 0, 'google'),\n",
              "  Text(7, 0, 'Welingak Website'),\n",
              "  Text(8, 0, 'Facebook'),\n",
              "  Text(9, 0, 'blog'),\n",
              "  Text(10, 0, 'Pay per Click Ads'),\n",
              "  Text(11, 0, 'bing'),\n",
              "  Text(12, 0, 'Social Media'),\n",
              "  Text(13, 0, 'WeLearn'),\n",
              "  Text(14, 0, 'Click2call'),\n",
              "  Text(15, 0, 'Live Chat'),\n",
              "  Text(16, 0, 'welearnblog_Home'),\n",
              "  Text(17, 0, 'youtubechannel'),\n",
              "  Text(18, 0, 'testone'),\n",
              "  Text(19, 0, 'Press_Release'),\n",
              "  Text(20, 0, 'NC_EDM')])"
            ]
          },
          "metadata": {},
          "execution_count": 55
        },
        {
          "output_type": "display_data",
          "data": {
            "text/plain": [
              "<Figure size 1500x750 with 1 Axes>"
            ],
            "image/png": "[encoded data removed]"
          },
          "metadata": {}
        }
      ]
    },
    {
      "cell_type": "markdown",
      "source": [
        "From the analysis we can say that most of the values are less as compare to other labels. So, the values which very less are converted into other for better visualization and better insights. And also helps to reduce multicollinearity after dummy creation."
      ],
      "metadata": {
        "id": "RJlCvqy9RgUd"
      }
    },
    {
      "cell_type": "code",
      "source": [
        "lead_data['Lead Source'] = lead_data['Lead Source'].replace(['google'], 'Google')\n",
        "lead_data['Lead Source'] = lead_data['Lead Source'].replace(['Click2call', 'Live Chat', 'NC_EDM', 'Pay per Click Ads', 'Press_Release',\n",
        "  'Social Media', 'WeLearn', 'bing', 'blog', 'testone', 'welearnblog_Home', 'youtubechannel'], 'Others')"
      ],
      "metadata": {
        "id": "sflno8nGcgwS"
      },
      "execution_count": 57,
      "outputs": []
    },
    {
      "cell_type": "code",
      "source": [
        "sns.countplot(x = \"Lead Source\", hue = \"Converted\", data = lead_data)\n",
        "xticks(rotation = 90)"
      ],
      "metadata": {
        "colab": {
          "base_uri": "https://localhost:8080/",
          "height": 733
        },
        "id": "rQH3Q8g7R3eN",
        "outputId": "0091bdac-e570-47ee-a26d-6158fff435c9"
      },
      "execution_count": 59,
      "outputs": [
        {
          "output_type": "execute_result",
          "data": {
            "text/plain": [
              "(array([0, 1, 2, 3, 4, 5, 6, 7, 8]),\n",
              " [Text(0, 0, 'Olark Chat'),\n",
              "  Text(1, 0, 'Organic Search'),\n",
              "  Text(2, 0, 'Direct Traffic'),\n",
              "  Text(3, 0, 'Google'),\n",
              "  Text(4, 0, 'Referral Sites'),\n",
              "  Text(5, 0, 'Reference'),\n",
              "  Text(6, 0, 'Welingak Website'),\n",
              "  Text(7, 0, 'Facebook'),\n",
              "  Text(8, 0, 'Others')])"
            ]
          },
          "metadata": {},
          "execution_count": 59
        },
        {
          "output_type": "display_data",
          "data": {
            "text/plain": [
              "<Figure size 640x480 with 1 Axes>"
            ],
            "image/png": "[encoded data removed]"
          },
          "metadata": {}
        }
      ]
    },
    {
      "cell_type": "markdown",
      "source": [
        "Google and Direct traffic generates maximum number of leads.\n",
        "\n",
        "Conversion Rate of reference leads and leads through welingak website is high.\n",
        "\n",
        "To improve overall lead conversion rate, focus should be on improving lead converion of olark chat, organic search, direct traffic, and google leads and generate more leads from reference and welingak website."
      ],
      "metadata": {
        "id": "mKO-TrACSbD8"
      }
    },
    {
      "cell_type": "code",
      "source": [
        "lead_data.columns"
      ],
      "metadata": {
        "colab": {
          "base_uri": "https://localhost:8080/"
        },
        "id": "U0pwMDvWSnJx",
        "outputId": "326e27a6-8a3a-4171-c73f-e3b9ceef430a"
      },
      "execution_count": 62,
      "outputs": [
        {
          "output_type": "execute_result",
          "data": {
            "text/plain": [
              "Index(['Lead Origin', 'Lead Source', 'Do Not Email', 'Converted',\n",
              "       'TotalVisits', 'Total Time Spent on Website', 'Page Views Per Visit',\n",
              "       'Last Activity', 'Country', 'Specialization',\n",
              "       'What is your current occupation',\n",
              "       'What matters most to you in choosing a course', 'Newspaper', 'Tags',\n",
              "       'City', 'A free copy of Mastering The Interview',\n",
              "       'Last Notable Activity'],\n",
              "      dtype='object')"
            ]
          },
          "metadata": {},
          "execution_count": 62
        }
      ]
    },
    {
      "cell_type": "code",
      "source": [
        "#Dealing with Do not mail and do not call column\n",
        "fig, axs = plt.subplots(1,2,figsize = (15,7.5))\n",
        "sns.countplot(x = \"Do Not Email\", hue = \"Converted\", data = lead_data, ax = axs[0])\n",
        "sns.countplot(x = \"Do Not Call\", hue = \"Converted\", data = lead_data, ax = axs[1])"
      ],
      "metadata": {
        "colab": {
          "base_uri": "https://localhost:8080/",
          "height": 1000
        },
        "id": "2f-SEmWTSQ__",
        "outputId": "254ba2dc-daa2-420f-8589-70ff9eb97d5f"
      },
      "execution_count": 66,
      "outputs": [
        {
          "output_type": "error",
          "ename": "ValueError",
          "evalue": "ignored",
          "traceback": [
            "\u001b[0;31m---------------------------------------------------------------------------\u001b[0m",
            "\u001b[0;31mValueError\u001b[0m                                Traceback (most recent call last)",
            "\u001b[0;32m<ipython-input-66-a6c7e4afecd5>\u001b[0m in \u001b[0;36m<cell line: 3>\u001b[0;34m()\u001b[0m\n\u001b[1;32m      1\u001b[0m \u001b[0mfig\u001b[0m\u001b[0;34m,\u001b[0m \u001b[0maxs\u001b[0m \u001b[0;34m=\u001b[0m \u001b[0mplt\u001b[0m\u001b[0;34m.\u001b[0m\u001b[0msubplots\u001b[0m\u001b[0;34m(\u001b[0m\u001b[0;36m1\u001b[0m\u001b[0;34m,\u001b[0m\u001b[0;36m2\u001b[0m\u001b[0;34m,\u001b[0m\u001b[0mfigsize\u001b[0m \u001b[0;34m=\u001b[0m \u001b[0;34m(\u001b[0m\u001b[0;36m15\u001b[0m\u001b[0;34m,\u001b[0m\u001b[0;36m7.5\u001b[0m\u001b[0;34m)\u001b[0m\u001b[0;34m)\u001b[0m\u001b[0;34m\u001b[0m\u001b[0;34m\u001b[0m\u001b[0m\n\u001b[1;32m      2\u001b[0m \u001b[0msns\u001b[0m\u001b[0;34m.\u001b[0m\u001b[0mcountplot\u001b[0m\u001b[0;34m(\u001b[0m\u001b[0mx\u001b[0m \u001b[0;34m=\u001b[0m \u001b[0;34m\"Do Not Email\"\u001b[0m\u001b[0;34m,\u001b[0m \u001b[0mhue\u001b[0m \u001b[0;34m=\u001b[0m \u001b[0;34m\"Converted\"\u001b[0m\u001b[0;34m,\u001b[0m \u001b[0mdata\u001b[0m \u001b[0;34m=\u001b[0m \u001b[0mlead_data\u001b[0m\u001b[0;34m,\u001b[0m \u001b[0max\u001b[0m \u001b[0;34m=\u001b[0m \u001b[0maxs\u001b[0m\u001b[0;34m[\u001b[0m\u001b[0;36m0\u001b[0m\u001b[0;34m]\u001b[0m\u001b[0;34m)\u001b[0m\u001b[0;34m\u001b[0m\u001b[0;34m\u001b[0m\u001b[0m\n\u001b[0;32m----> 3\u001b[0;31m \u001b[0msns\u001b[0m\u001b[0;34m.\u001b[0m\u001b[0mcountplot\u001b[0m\u001b[0;34m(\u001b[0m\u001b[0mx\u001b[0m \u001b[0;34m=\u001b[0m \u001b[0;34m\"Do Not Call\"\u001b[0m\u001b[0;34m,\u001b[0m \u001b[0mhue\u001b[0m \u001b[0;34m=\u001b[0m \u001b[0;34m\"Converted\"\u001b[0m\u001b[0;34m,\u001b[0m \u001b[0mdata\u001b[0m \u001b[0;34m=\u001b[0m \u001b[0mlead_data\u001b[0m\u001b[0;34m,\u001b[0m \u001b[0max\u001b[0m \u001b[0;34m=\u001b[0m \u001b[0maxs\u001b[0m\u001b[0;34m[\u001b[0m\u001b[0;36m1\u001b[0m\u001b[0;34m]\u001b[0m\u001b[0;34m)\u001b[0m\u001b[0;34m\u001b[0m\u001b[0;34m\u001b[0m\u001b[0m\n\u001b[0m",
            "\u001b[0;32m/usr/local/lib/python3.10/dist-packages/seaborn/categorical.py\u001b[0m in \u001b[0;36mcountplot\u001b[0;34m(data, x, y, hue, order, hue_order, orient, color, palette, saturation, width, dodge, ax, **kwargs)\u001b[0m\n\u001b[1;32m   2941\u001b[0m         \u001b[0;32mraise\u001b[0m \u001b[0mValueError\u001b[0m\u001b[0;34m(\u001b[0m\u001b[0;34m\"Cannot pass values for both `x` and `y`\"\u001b[0m\u001b[0;34m)\u001b[0m\u001b[0;34m\u001b[0m\u001b[0;34m\u001b[0m\u001b[0m\n\u001b[1;32m   2942\u001b[0m \u001b[0;34m\u001b[0m\u001b[0m\n\u001b[0;32m-> 2943\u001b[0;31m     plotter = _CountPlotter(\n\u001b[0m\u001b[1;32m   2944\u001b[0m         \u001b[0mx\u001b[0m\u001b[0;34m,\u001b[0m \u001b[0my\u001b[0m\u001b[0;34m,\u001b[0m \u001b[0mhue\u001b[0m\u001b[0;34m,\u001b[0m \u001b[0mdata\u001b[0m\u001b[0;34m,\u001b[0m \u001b[0morder\u001b[0m\u001b[0;34m,\u001b[0m \u001b[0mhue_order\u001b[0m\u001b[0;34m,\u001b[0m\u001b[0;34m\u001b[0m\u001b[0;34m\u001b[0m\u001b[0m\n\u001b[1;32m   2945\u001b[0m         \u001b[0mestimator\u001b[0m\u001b[0;34m,\u001b[0m \u001b[0merrorbar\u001b[0m\u001b[0;34m,\u001b[0m \u001b[0mn_boot\u001b[0m\u001b[0;34m,\u001b[0m \u001b[0munits\u001b[0m\u001b[0;34m,\u001b[0m \u001b[0mseed\u001b[0m\u001b[0;34m,\u001b[0m\u001b[0;34m\u001b[0m\u001b[0;34m\u001b[0m\u001b[0m\n",
            "\u001b[0;32m/usr/local/lib/python3.10/dist-packages/seaborn/categorical.py\u001b[0m in \u001b[0;36m__init__\u001b[0;34m(self, x, y, hue, data, order, hue_order, estimator, errorbar, n_boot, units, seed, orient, color, palette, saturation, width, errcolor, errwidth, capsize, dodge)\u001b[0m\n\u001b[1;32m   1528\u001b[0m                  errcolor, errwidth, capsize, dodge):\n\u001b[1;32m   1529\u001b[0m         \u001b[0;34m\"\"\"Initialize the plotter.\"\"\"\u001b[0m\u001b[0;34m\u001b[0m\u001b[0;34m\u001b[0m\u001b[0m\n\u001b[0;32m-> 1530\u001b[0;31m         self.establish_variables(x, y, hue, data, orient,\n\u001b[0m\u001b[1;32m   1531\u001b[0m                                  order, hue_order, units)\n\u001b[1;32m   1532\u001b[0m         \u001b[0mself\u001b[0m\u001b[0;34m.\u001b[0m\u001b[0mestablish_colors\u001b[0m\u001b[0;34m(\u001b[0m\u001b[0mcolor\u001b[0m\u001b[0;34m,\u001b[0m \u001b[0mpalette\u001b[0m\u001b[0;34m,\u001b[0m \u001b[0msaturation\u001b[0m\u001b[0;34m)\u001b[0m\u001b[0;34m\u001b[0m\u001b[0;34m\u001b[0m\u001b[0m\n",
            "\u001b[0;32m/usr/local/lib/python3.10/dist-packages/seaborn/categorical.py\u001b[0m in \u001b[0;36mestablish_variables\u001b[0;34m(self, x, y, hue, data, orient, order, hue_order, units)\u001b[0m\n\u001b[1;32m    539\u001b[0m                 \u001b[0;32mif\u001b[0m \u001b[0misinstance\u001b[0m\u001b[0;34m(\u001b[0m\u001b[0mvar\u001b[0m\u001b[0;34m,\u001b[0m \u001b[0mstr\u001b[0m\u001b[0;34m)\u001b[0m\u001b[0;34m:\u001b[0m\u001b[0;34m\u001b[0m\u001b[0;34m\u001b[0m\u001b[0m\n\u001b[1;32m    540\u001b[0m                     \u001b[0merr\u001b[0m \u001b[0;34m=\u001b[0m \u001b[0;34mf\"Could not interpret input '{var}'\"\u001b[0m\u001b[0;34m\u001b[0m\u001b[0;34m\u001b[0m\u001b[0m\n\u001b[0;32m--> 541\u001b[0;31m                     \u001b[0;32mraise\u001b[0m \u001b[0mValueError\u001b[0m\u001b[0;34m(\u001b[0m\u001b[0merr\u001b[0m\u001b[0;34m)\u001b[0m\u001b[0;34m\u001b[0m\u001b[0;34m\u001b[0m\u001b[0m\n\u001b[0m\u001b[1;32m    542\u001b[0m \u001b[0;34m\u001b[0m\u001b[0m\n\u001b[1;32m    543\u001b[0m             \u001b[0;31m# Figure out the plotting orientation\u001b[0m\u001b[0;34m\u001b[0m\u001b[0;34m\u001b[0m\u001b[0m\n",
            "\u001b[0;31mValueError\u001b[0m: Could not interpret input 'Do Not Call'"
          ]
        },
        {
          "output_type": "display_data",
          "data": {
            "text/plain": [
              "<Figure size 1500x750 with 2 Axes>"
            ],
            "image/png": "[encoded data removed]"
          },
          "metadata": {}
        }
      ]
    },
    {
      "cell_type": "code",
      "source": [
        "#Checking for TotalVisits columns\n",
        "lead_data['TotalVisits'].describe(percentiles=[0.05,.25, .5, .75, .90, .95, .99])"
      ],
      "metadata": {
        "colab": {
          "base_uri": "https://localhost:8080/"
        },
        "id": "HBJZ-I80TxXW",
        "outputId": "63817d85-a6a3-4395-af6c-8e38ba719c01"
      },
      "execution_count": 68,
      "outputs": [
        {
          "output_type": "execute_result",
          "data": {
            "text/plain": [
              "count    9074.000000\n",
              "mean        3.456028\n",
              "std         4.858802\n",
              "min         0.000000\n",
              "5%          0.000000\n",
              "25%         1.000000\n",
              "50%         3.000000\n",
              "75%         5.000000\n",
              "90%         7.000000\n",
              "95%        10.000000\n",
              "99%        17.000000\n",
              "max       251.000000\n",
              "Name: TotalVisits, dtype: float64"
            ]
          },
          "metadata": {},
          "execution_count": 68
        }
      ]
    },
    {
      "cell_type": "code",
      "source": [
        "sns.boxplot(lead_data['TotalVisits'])"
      ],
      "metadata": {
        "colab": {
          "base_uri": "https://localhost:8080/",
          "height": 447
        },
        "id": "hGFs4P3fT6HJ",
        "outputId": "a9bbe546-4757-44a4-8a42-4b05b9fdda36"
      },
      "execution_count": 70,
      "outputs": [
        {
          "output_type": "execute_result",
          "data": {
            "text/plain": [
              "<Axes: >"
            ]
          },
          "metadata": {},
          "execution_count": 70
        },
        {
          "output_type": "display_data",
          "data": {
            "text/plain": [
              "<Figure size 640x480 with 1 Axes>"
            ],
            "image/png": "[encoded data removed]"
          },
          "metadata": {}
        }
      ]
    },
    {
      "cell_type": "markdown",
      "source": [
        "As we can see there are a number of outliers in the data.We will cap the outliers to 95% value for analysis."
      ],
      "metadata": {
        "id": "ZI4DGSW9U58f"
      }
    },
    {
      "cell_type": "code",
      "source": [
        "#Outlier Treatment\n",
        "percentiles = lead_data['TotalVisits'].quantile([0.05,0.95]).values\n",
        "lead_data['TotalVisits'][lead_data['TotalVisits'] <= percentiles[0]] = percentiles[0]\n",
        "lead_data['TotalVisits'][lead_data['TotalVisits'] >= percentiles[1]] = percentiles[1]"
      ],
      "metadata": {
        "id": "uWTFQpYlT6FF"
      },
      "execution_count": 72,
      "outputs": []
    },
    {
      "cell_type": "code",
      "source": [
        "sns.boxplot(lead_data['TotalVisits'])"
      ],
      "metadata": {
        "colab": {
          "base_uri": "https://localhost:8080/",
          "height": 447
        },
        "id": "NWObCCjuT6Cm",
        "outputId": "671b8467-e523-4fdf-b033-3bd2754247a3"
      },
      "execution_count": 73,
      "outputs": [
        {
          "output_type": "execute_result",
          "data": {
            "text/plain": [
              "<Axes: >"
            ]
          },
          "metadata": {},
          "execution_count": 73
        },
        {
          "output_type": "display_data",
          "data": {
            "text/plain": [
              "<Figure size 640x480 with 1 Axes>"
            ],
            "image/png": "[encoded data removed]"
          },
          "metadata": {}
        }
      ]
    },
    {
      "cell_type": "code",
      "source": [
        "#Analysis of totalvisit and converted column\n",
        "sns.boxplot(y = 'TotalVisits', x = 'Converted', data = lead_data)"
      ],
      "metadata": {
        "colab": {
          "base_uri": "https://localhost:8080/",
          "height": 466
        },
        "id": "S93pE8RCT6AQ",
        "outputId": "0454a39c-3b32-49c9-e36d-50785ff7e611"
      },
      "execution_count": 75,
      "outputs": [
        {
          "output_type": "execute_result",
          "data": {
            "text/plain": [
              "<Axes: xlabel='Converted', ylabel='TotalVisits'>"
            ]
          },
          "metadata": {},
          "execution_count": 75
        },
        {
          "output_type": "display_data",
          "data": {
            "text/plain": [
              "<Figure size 640x480 with 1 Axes>"
            ],
            "image/png": "[encoded data removed]"
          },
          "metadata": {}
        }
      ]
    },
    {
      "cell_type": "markdown",
      "source": [
        "Median for converted and not converted leads are the same.\n",
        "Nothng conclusive can be said on the basis of Total Visits."
      ],
      "metadata": {
        "id": "jjSbnXq4VkzO"
      }
    },
    {
      "cell_type": "code",
      "source": [
        "#Total Time Spent on Website column\n",
        "lead_data['Total Time Spent on Website'].describe()"
      ],
      "metadata": {
        "colab": {
          "base_uri": "https://localhost:8080/"
        },
        "id": "WxZMRWELT59e",
        "outputId": "140bc78f-2fcd-4461-df11-65dd5cf382d3"
      },
      "execution_count": 76,
      "outputs": [
        {
          "output_type": "execute_result",
          "data": {
            "text/plain": [
              "count    9074.000000\n",
              "mean      482.887481\n",
              "std       545.256560\n",
              "min         0.000000\n",
              "25%        11.000000\n",
              "50%       246.000000\n",
              "75%       922.750000\n",
              "max      2272.000000\n",
              "Name: Total Time Spent on Website, dtype: float64"
            ]
          },
          "metadata": {},
          "execution_count": 76
        }
      ]
    },
    {
      "cell_type": "code",
      "source": [
        "#Boxplot analysis\n",
        "sns.boxplot(lead_data['Total Time Spent on Website'])"
      ],
      "metadata": {
        "colab": {
          "base_uri": "https://localhost:8080/",
          "height": 447
        },
        "id": "ykWRUd7aT564",
        "outputId": "804aed9a-965d-42dc-a212-2662d28bb9e6"
      },
      "execution_count": 78,
      "outputs": [
        {
          "output_type": "execute_result",
          "data": {
            "text/plain": [
              "<Axes: >"
            ]
          },
          "metadata": {},
          "execution_count": 78
        },
        {
          "output_type": "display_data",
          "data": {
            "text/plain": [
              "<Figure size 640x480 with 1 Axes>"
            ],
            "image/png": "[encoded data removed]"
          },
          "metadata": {}
        }
      ]
    },
    {
      "cell_type": "code",
      "source": [
        "#Box plot for target and Total Time Spent on Website column\n",
        "sns.boxplot(y = 'Total Time Spent on Website', x = 'Converted', data = lead_data)\n"
      ],
      "metadata": {
        "colab": {
          "base_uri": "https://localhost:8080/",
          "height": 466
        },
        "id": "XZa-hK79T54w",
        "outputId": "f3c2f9f2-ae4e-4e28-f839-cffb6e5adce5"
      },
      "execution_count": 81,
      "outputs": [
        {
          "output_type": "execute_result",
          "data": {
            "text/plain": [
              "<Axes: xlabel='Converted', ylabel='Total Time Spent on Website'>"
            ]
          },
          "metadata": {},
          "execution_count": 81
        },
        {
          "output_type": "display_data",
          "data": {
            "text/plain": [
              "<Figure size 640x480 with 1 Axes>"
            ],
            "image/png": "[encoded data removed]"
          },
          "metadata": {}
        }
      ]
    },
    {
      "cell_type": "code",
      "source": [],
      "metadata": {
        "id": "EBvN6ruAT52H"
      },
      "execution_count": null,
      "outputs": []
    },
    {
      "cell_type": "code",
      "source": [],
      "metadata": {
        "id": "-wgiKhg4T5z_"
      },
      "execution_count": null,
      "outputs": []
    }
  ]
}